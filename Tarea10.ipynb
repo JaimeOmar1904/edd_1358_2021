{
  "nbformat": 4,
  "nbformat_minor": 0,
  "metadata": {
    "colab": {
      "name": "Tarea10.ipynb",
      "provenance": [],
      "authorship_tag": "ABX9TyOh5+Bi8Agp6QJ9xaGrProj",
      "include_colab_link": true
    },
    "kernelspec": {
      "name": "python3",
      "display_name": "Python 3"
    }
  },
  "cells": [
    {
      "cell_type": "markdown",
      "metadata": {
        "id": "view-in-github",
        "colab_type": "text"
      },
      "source": [
        "<a href=\"https://colab.research.google.com/github/JaimeOmar1904/edd_1358_2021/blob/master/Tarea10.ipynb\" target=\"_parent\"><img src=\"https://colab.research.google.com/assets/colab-badge.svg\" alt=\"Open In Colab\"/></a>"
      ]
    },
    {
      "cell_type": "code",
      "metadata": {
        "colab": {
          "base_uri": "https://localhost:8080/"
        },
        "id": "3Jv2x0fgcmx5",
        "outputId": "da720268-95da-409f-db46-ce48946db5df"
      },
      "source": [
        "def SumaRecursiva(lista):\r\n",
        "    if len(lista) == 1:\r\n",
        "        return lista[0]\r\n",
        "    else:\r\n",
        "        return lista[0]+SumaRecursiva(lista[1:])\r\n",
        "numeros = [1,5,3,5,56,3]\r\n",
        "resultado = SumaRecursiva(numeros)\r\n",
        "print(resultado)\r\n"
      ],
      "execution_count": 55,
      "outputs": [
        {
          "output_type": "stream",
          "text": [
            "73\n"
          ],
          "name": "stdout"
        }
      ]
    },
    {
      "cell_type": "code",
      "metadata": {
        "colab": {
          "base_uri": "https://localhost:8080/"
        },
        "id": "EpE08boAm1s0",
        "outputId": "8234e85e-109c-4fa0-8037-5bedf9386a63"
      },
      "source": [
        "print(\"la Bomaba estara en:\")\r\n",
        "def ContadorRegresivo( n):\r\n",
        "    if n > 0:\r\n",
        "        print(n)\r\n",
        "        printRev(n-1)\r\n",
        "ContadorRegresivo(10)\r\n",
        "print(f\"Boom\")\r\n"
      ],
      "execution_count": 26,
      "outputs": [
        {
          "output_type": "stream",
          "text": [
            "la Bomaba estara en:\n",
            "10\n",
            "9\n",
            "8\n",
            "7\n",
            "6\n",
            "5\n",
            "4\n",
            "3\n",
            "2\n",
            "1\n",
            "Boom\n"
          ],
          "name": "stdout"
        }
      ]
    },
    {
      "cell_type": "code",
      "metadata": {
        "id": "Js36e41JkSkt"
      },
      "source": [
        "class Stack:\r\n",
        "  def __init__( self ):\r\n",
        "    self.__data = []\r\n",
        "    self.__size = 0\r\n",
        "\r\n",
        "  def pop( self ):\r\n",
        "    self.__size -=1\r\n",
        "    return self.__data.pop()\r\n",
        "\r\n",
        "  def get_size( self ):\r\n",
        "    return self.__size\r\n",
        "\r\n",
        "  def peek( self ):\r\n",
        "    return self.__data[-1]\r\n",
        "\r\n",
        "  def push (self, value ):\r\n",
        "    self.__size +=1\r\n",
        "    return self.__data.append( value )\r\n",
        "\r\n",
        "  def to_string( self ):\r\n",
        "    print(\"-------\")\r\n",
        "    for dato in self.__data[ : :-1]:\r\n",
        "      print( f\"| { dato } |\")\r\n",
        "      print(\"-------\")"
      ],
      "execution_count": 27,
      "outputs": []
    },
    {
      "cell_type": "code",
      "metadata": {
        "colab": {
          "base_uri": "https://localhost:8080/"
        },
        "id": "oo0HYzg7kbAq",
        "outputId": "10cb1600-3398-4c21-a75f-83d2661929e3"
      },
      "source": [
        "\r\n",
        "def ValorMedioPila( n ):\r\n",
        "    Aux = Stack()\r\n",
        "    PuntoMedio = (n.get_size())/2\r\n",
        "    res = (n.get_size())%2\r\n",
        "    cont = 0\r\n",
        "    VB = 0\r\n",
        "    if res == 1:\r\n",
        "        PuntoMedio = PuntoMedio-0.5\r\n",
        "    while (PuntoMedio != 0):\r\n",
        "        Aux.push(n.pop())\r\n",
        "        PuntoMedio = PuntoMedio -1\r\n",
        "        cont = cont+1\r\n",
        "    VB = n.pop()\r\n",
        "    while (cont != 0):\r\n",
        "         n.push(Aux.pop())\r\n",
        "         cont = cont -1\r\n",
        "    return VB\r\n",
        "\r\n",
        "Pila = Stack()\r\n",
        "Pila.push(10)\r\n",
        "Pila.push(30)\r\n",
        "Pila.push(50)\r\n",
        "Pila.push(70)\r\n",
        "Pila.push(90)\r\n",
        "Pila.push(110)\r\n",
        "Pila.push(130)\r\n",
        "Pila.to_string()\r\n",
        "\r\n",
        "\r\n",
        "print(\"-----------------------------------------------\")\r\n",
        "print(f\"El Valor medio es:{ValorMedioPila(Pila)}\")\r\n",
        "print(\"-----------------------------------------------\")\r\n",
        "Pila.to_string()\r\n",
        "print(\"-----------------------------------------------\")\r\n",
        "print(f\"El Valor medio es:{ValorMedioPila(Pila)}\")\r\n",
        "print(\"-----------------------------------------------\")\r\n",
        "Pila.to_string()\r\n"
      ],
      "execution_count": 39,
      "outputs": [
        {
          "output_type": "stream",
          "text": [
            "-------\n",
            "| 130 |\n",
            "-------\n",
            "| 110 |\n",
            "-------\n",
            "| 90 |\n",
            "-------\n",
            "| 70 |\n",
            "-------\n",
            "| 50 |\n",
            "-------\n",
            "| 30 |\n",
            "-------\n",
            "| 10 |\n",
            "-------\n",
            "-----------------------------------------------\n",
            "El Valor medio es:70\n",
            "-----------------------------------------------\n",
            "-------\n",
            "| 130 |\n",
            "-------\n",
            "| 110 |\n",
            "-------\n",
            "| 90 |\n",
            "-------\n",
            "| 50 |\n",
            "-------\n",
            "| 30 |\n",
            "-------\n",
            "| 10 |\n",
            "-------\n",
            "-----------------------------------------------\n",
            "El Valor medio es:50\n",
            "-----------------------------------------------\n",
            "-------\n",
            "| 130 |\n",
            "-------\n",
            "| 110 |\n",
            "-------\n",
            "| 90 |\n",
            "-------\n",
            "| 30 |\n",
            "-------\n",
            "| 10 |\n",
            "-------\n"
          ],
          "name": "stdout"
        }
      ]
    }
  ]
}