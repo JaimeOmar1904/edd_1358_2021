{
  "nbformat": 4,
  "nbformat_minor": 0,
  "metadata": {
    "colab": {
      "name": "Tabla de multiplicar_Examen",
      "provenance": [],
      "authorship_tag": "ABX9TyPaoQ94zCEEeV9dmdBdi3h3",
      "include_colab_link": true
    },
    "kernelspec": {
      "name": "python3",
      "display_name": "Python 3"
    }
  },
  "cells": [
    {
      "cell_type": "markdown",
      "metadata": {
        "id": "view-in-github",
        "colab_type": "text"
      },
      "source": [
        "<a href=\"https://colab.research.google.com/github/JaimeOmar1904/edd_1358_2021/blob/master/Tabla_de_multiplicar_Examen.ipynb\" target=\"_parent\"><img src=\"https://colab.research.google.com/assets/colab-badge.svg\" alt=\"Open In Colab\"/></a>"
      ]
    },
    {
      "cell_type": "code",
      "metadata": {
        "colab": {
          "base_uri": "https://localhost:8080/"
        },
        "id": "eCnQbSp-baDz",
        "outputId": "38bf916e-76a5-4e4a-e001-f9febc6cbe2b"
      },
      "source": [
        "N = int(input(\"Que tabla de multiplicacion quieres:\"))\r\n",
        "for f in range(1,11):\r\n",
        "    multiplicacion = N *f\r\n",
        "    print( f\"{N} x  {f} = {multiplicacion}\")"
      ],
      "execution_count": 12,
      "outputs": [
        {
          "output_type": "stream",
          "text": [
            "Que tabla de multiplicacion quieres:7\n",
            "7 x  1 = 7\n",
            "7 x  2 = 14\n",
            "7 x  3 = 21\n",
            "7 x  4 = 28\n",
            "7 x  5 = 35\n",
            "7 x  6 = 42\n",
            "7 x  7 = 49\n",
            "7 x  8 = 56\n",
            "7 x  9 = 63\n",
            "7 x  10 = 70\n"
          ],
          "name": "stdout"
        }
      ]
    }
  ]
}