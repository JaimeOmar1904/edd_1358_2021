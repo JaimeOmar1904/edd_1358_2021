{
  "nbformat": 4,
  "nbformat_minor": 0,
  "metadata": {
    "colab": {
      "name": "21octubre_1358.ipynb",
      "provenance": [],
      "authorship_tag": "ABX9TyOEl5IU/HrK82O2nXhea4kl",
      "include_colab_link": true
    },
    "kernelspec": {
      "name": "python3",
      "display_name": "Python 3"
    }
  },
  "cells": [
    {
      "cell_type": "markdown",
      "metadata": {
        "id": "view-in-github",
        "colab_type": "text"
      },
      "source": [
        "<a href=\"https://colab.research.google.com/github/JaimeOmar1904/edd_1358_2021/blob/master/21octubre_1358.ipynb\" target=\"_parent\"><img src=\"https://colab.research.google.com/assets/colab-badge.svg\" alt=\"Open In Colab\"/></a>"
      ]
    },
    {
      "cell_type": "code",
      "metadata": {
        "id": "N_48iSNitdz0",
        "outputId": "29f5a9ab-8083-47ac-94da-097ecf91cf81",
        "colab": {
          "base_uri": "https://localhost:8080/",
          "height": 85
        }
      },
      "source": [
        "# Encapsulamiento tradicional wey\n",
        "class SmartPhone:\n",
        "    def __init__( self , m):\n",
        "        self.__marca = m \n",
        "    \n",
        "    def set_marca( self , m):\n",
        "        self.__marca = m\n",
        "\n",
        "    def get_marca( self ):\n",
        "        return self.__marca\n",
        "\n",
        "    def to_string( self ):\n",
        "        return \"La marca del telefono es:\" + self.__marca\n",
        "\n",
        "sp1 = SmartPhone(\"Huawei\")\n",
        "print(sp1.to_string() )\n",
        "sp1.__marca = \"Iphone x\"\n",
        "print( sp1.to_string())\n",
        "sp1.set_marca(\"Samsung\")\n",
        "print(sp1.to_string())\n",
        "print(sp1.get_marca())"
      ],
      "execution_count": 6,
      "outputs": [
        {
          "output_type": "stream",
          "text": [
            "La marca del telefono es:Huawei\n",
            "La marca del telefono es:Huawei\n",
            "La marca del telefono es:Samsung\n",
            "Samsung\n"
          ],
          "name": "stdout"
        }
      ]
    },
    {
      "cell_type": "code",
      "metadata": {
        "id": "PpF3jGLHxfNu",
        "outputId": "f8cf9a08-e67c-4a1f-f75f-269c47480a99",
        "colab": {
          "base_uri": "https://localhost:8080/",
          "height": 136
        }
      },
      "source": [
        "# estilo Python 3\n",
        "class SmartPhone:\n",
        "    def __init__( self , m):\n",
        "        self.marca = m  # llamado al metodo get\n",
        "    \n",
        "    @property\n",
        "    def marca( self ): # define metodo get y declara self.__marca\n",
        "        #print(\"En el método get marca\")\n",
        "        return self.__marca\n",
        "    @marca.setter\n",
        "    def marca(self , m):\n",
        "        if m in [\"Lenovo\", \"Sony\", \"Motorola\",\"Iphone SE\", \"Huawei\",\"Xiaomi\"]:\n",
        "            self.__marca = m\n",
        "\n",
        "        else:\n",
        "            print(\"Asignacion no valida\")\n",
        "    \n",
        "    def to_string ( self ):\n",
        "        return \"Marca = \" + self.marca\n",
        "\n",
        "\n",
        "sp2 = SmartPhone(\"Xiaomi\")\n",
        "print(sp2.to_string() )\n",
        "sp2.__marca =\"Iphone SE\"\n",
        "print(sp2.to_string() )\n",
        "sp2.marca = \"motorola\"\n",
        "print(sp2.to_string() )\n",
        "\n",
        "print(sp2.marca) # invocación del metodo get\n",
        "\n",
        "sp2.marca = \"8989dycydgcuyb\"\n",
        "print(sp2.to_string() )\n",
        "\n"
      ],
      "execution_count": 19,
      "outputs": [
        {
          "output_type": "stream",
          "text": [
            "Marca = Xiaomi\n",
            "Marca = Xiaomi\n",
            "Asignacion no valida\n",
            "Marca = Xiaomi\n",
            "Xiaomi\n",
            "Asignacion no valida\n",
            "Marca = Xiaomi\n"
          ],
          "name": "stdout"
        }
      ]
    },
    {
      "cell_type": "code",
      "metadata": {
        "id": "rvt8ScpB5FD3",
        "outputId": "d56d9288-ec56-4fbc-edb2-e3adde427429",
        "colab": {
          "base_uri": "https://localhost:8080/",
          "height": 88
        }
      },
      "source": [
        "class TelefonoTrabajo(SmartPhone):\n",
        "    def __init__( self , m):\n",
        "        self.marca = m\n",
        "sp3 = TelefonoTrabajo(\" Motorola\")\n",
        "print(dir(sp3))\n",
        "print(sp3.to_string())"
      ],
      "execution_count": 18,
      "outputs": [
        {
          "output_type": "stream",
          "text": [
            "['_SmartPhone__marca', '__class__', '__delattr__', '__dict__', '__dir__', '__doc__', '__eq__', '__format__', '__ge__', '__getattribute__', '__gt__', '__hash__', '__init__', '__init_subclass__', '__le__', '__lt__', '__module__', '__ne__', '__new__', '__reduce__', '__reduce_ex__', '__repr__', '__setattr__', '__sizeof__', '__str__', '__subclasshook__', '__weakref__', 'marca', 'to_string']\n",
            "En el método get marca\n",
            "Marca =  Motorola\n"
          ],
          "name": "stdout"
        }
      ]
    }
  ]
}