{
  "nbformat": 4,
  "nbformat_minor": 0,
  "metadata": {
    "colab": {
      "name": "7octubre_1358",
      "provenance": [],
      "authorship_tag": "ABX9TyOvyTXeKFBSzS0MWCJN+fzk",
      "include_colab_link": true
    },
    "kernelspec": {
      "name": "python3",
      "display_name": "Python 3"
    }
  },
  "cells": [
    {
      "cell_type": "markdown",
      "metadata": {
        "id": "view-in-github",
        "colab_type": "text"
      },
      "source": [
        "<a href=\"https://colab.research.google.com/github/JaimeOmar1904/edd_1358_2021/blob/master/7octubre_1358.ipynb\" target=\"_parent\"><img src=\"https://colab.research.google.com/assets/colab-badge.svg\" alt=\"Open In Colab\"/></a>"
      ]
    },
    {
      "cell_type": "code",
      "metadata": {
        "id": "wi8n49Rbo1dK",
        "outputId": "24c678dc-10fc-42da-e502-d025516a0a42",
        "colab": {
          "base_uri": "https://localhost:8080/"
        }
      },
      "source": [
        "autos = [\"Mazda\",\"Honda\",\"Akura\",\"Ford\",\"VW\"]\n",
        "telefonos =[\"iphone\", \"huawei mate 30\", \"Xiaomi s10\",\"Alcatel t100\"]\n",
        "sistemas_operativos = [\"Windows\",\"Linux\",\"Android\",\"Ios\",\"MacOs\"]\n",
        "procesadores = [[\"Intel\", 3.1, True], [\"AMD\",2.7, False],[\"Motorola\", 1.1,False]]\n",
        "\n",
        "lista_nd = [autos,telefonos,sistemas_operativos,procesadores]\n",
        "print(lista_nd)\n",
        "print(lista_nd[2][3])\n",
        "print(lista_nd[1][1][3:6])\n",
        "print(lista_nd[3][1][1])\n",
        "print(lista_nd[3][2][0][2:6])\n",
        "print(lista_nd[3][0][0][-2:-5:-1])\n",
        "\n",
        "#Contenedores listas\n",
        "colores = [ \"rojo\", \"verde\",\"azul\",\"Negro\"]\n",
        "flores = [\"margarita\",\"rosa\"]\n",
        "\n",
        "nueva =colores + flores\n",
        "print(nueva)\n",
        "print(colores)\n",
        "print(flores)\n",
        "\n",
        "#Con extends\n",
        "\n",
        "colores.extend(flores)\n",
        "print(colores)\n",
        "\n",
        "\n",
        "#unpacking de listas\n",
        "print(\"unpacking\")\n",
        "datos_personales = [\"Jose\", \"Peres\",\"Juarez\",22,1.67,True]\n",
        "nombre,paterno,materno,edad,est,fuma = datos_personales\n",
        "print(f\"Nombre:{nombre} edad:{edad}\")\n",
        "\n",
        "\n"
      ],
      "execution_count": 6,
      "outputs": [
        {
          "output_type": "stream",
          "text": [
            "[['Mazda', 'Honda', 'Akura', 'Ford', 'VW'], ['iphone', 'huawei mate 30', 'Xiaomi s10', 'Alcatel t100'], ['Windows', 'Linux', 'Android', 'Ios', 'MacOs'], [['Intel', 3.1, True], ['AMD', 2.7, False], ['Motorola', 1.1, False]]]\n",
            "Ios\n",
            "wei\n",
            "2.7\n",
            "toro\n",
            "etn\n",
            "['rojo', 'verde', 'azul', 'Negro', 'margarita', 'rosa']\n",
            "['rojo', 'verde', 'azul', 'Negro']\n",
            "['margarita', 'rosa']\n",
            "['rojo', 'verde', 'azul', 'Negro', 'margarita', 'rosa']\n",
            "unpacking\n",
            "Nombre:Jose edad:22\n"
          ],
          "name": "stdout"
        }
      ]
    },
    {
      "cell_type": "code",
      "metadata": {
        "id": "hmoDrBg5uLN4"
      },
      "source": [
        "# Tuplas\n",
        "bd = ('127.0.0.1','roo','toor','12345')\n",
        "print(f\"usuario de la bd es {bd[1]} \")\n",
        "# bd[1]='user1'\n",
        "print(bd[1:3])\n",
        "\n",
        "#Diccionarios\n",
        "\n",
        "#alumno = {'nombre':'juan','edad':'2','carrera':'ICO'}\n",
        "print(alumno)\n",
        "print(alumno['edad'])\n",
        "\n",
        "alumno = {'nombre':'juan',\n",
        "          'edad':'2',\n",
        "          'carrera':'ICO',\n",
        "          'direccion': {'calle':'bosque de africa',\n",
        "                       'numero':33,\n",
        "                       'delegacion':'Nezahualcoyotl',\n",
        "                       'estado':15,\n",
        "                       'nombre_estado':'Estado de Mexico'\n",
        "                       }\n",
        "print(alumno['direccion'])\n",
        "print(alumno['direccion']['delegacion'])\n",
        "print(alumno['direccion']['delegacion'][3:7])\n",
        "print(alumno['direccion']['delegacion'][3:7].upper()  )\n",
        "alumno['edad']=35\n",
        "print(alumno)\n",
        "alumno['promedio'] =9.9\n",
        "print(alumno)\n",
        "alumno['direccion']['cp']= 17170\n",
        "alumno['materia']={'nombre':'Cyp','calificacion':10}\n",
        "print(alumno)\n",
        "\n",
        "\n",
        "cliente= {  'id' : 1  , 'nombre' : ' Carlos slim'}\n",
        "print(cliente)\n",
        "\n"
      ],
      "execution_count": null,
      "outputs": []
    },
    {
      "cell_type": "code",
      "metadata": {
        "id": "YI8918GJwDmm"
      },
      "source": [
        ""
      ],
      "execution_count": null,
      "outputs": []
    }
  ]
}