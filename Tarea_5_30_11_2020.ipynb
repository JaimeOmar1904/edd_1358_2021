{
  "nbformat": 4,
  "nbformat_minor": 0,
  "metadata": {
    "colab": {
      "name": "Tarea 5  30/11/2020.ipynb",
      "provenance": [],
      "collapsed_sections": [],
      "authorship_tag": "ABX9TyN6oL0L3vezbuVt+oHhCY3m",
      "include_colab_link": true
    },
    "kernelspec": {
      "name": "python3",
      "display_name": "Python 3"
    }
  },
  "cells": [
    {
      "cell_type": "markdown",
      "metadata": {
        "id": "view-in-github",
        "colab_type": "text"
      },
      "source": [
        "<a href=\"https://colab.research.google.com/github/JaimeOmar1904/edd_1358_2021/blob/master/Tarea_5_30_11_2020.ipynb\" target=\"_parent\"><img src=\"https://colab.research.google.com/assets/colab-badge.svg\" alt=\"Open In Colab\"/></a>"
      ]
    },
    {
      "cell_type": "code",
      "metadata": {
        "id": "BtK6KVHbdhXN"
      },
      "source": [
        "class NodoDoble:\n",
        "    def __init__( self , dato, anterior = None, siguiente = None):\n",
        "        self.dato = dato\n",
        "        self.siguiente = siguiente\n",
        "        self.anterior = anterior\n",
        "\n",
        "class DoubleLinkedList:\n",
        "    def __init__(self):\n",
        "        self.__head = None\n",
        "        self.__tail = None\n",
        "        self.__size = 0\n",
        "    \n",
        "    def get_size(self):\n",
        "        return self.__size\n",
        "\t\n",
        "    def is_empty(self):\n",
        "        return self.__size == 0\n",
        "    \n",
        "    def append(self,value):\n",
        "        if self.is_empty():\n",
        "            nuevo = NodoDoble(value)\n",
        "            self.__head = nuevo\n",
        "            self.__tail = nuevo\n",
        "        else:\n",
        "            nuevo = NodoDoble(value,self.__tail,None)\n",
        "            self.__tail.siguiente = nuevo #tail.next = nuevo\n",
        "            self.__tail = nuevo\n",
        "        self.__size += 1\n",
        "    \n",
        "    def find_from_tail(self, value ):\n",
        "        curr_node = self.__tail\n",
        "        contador = 0\n",
        "        while( curr_node != None ):\n",
        "            if curr_node.dato == value:\n",
        "                return contador\n",
        "            contador += 1\n",
        "            curr_node = curr_node.anterior\n",
        "        return\n",
        "\n",
        "    def find_from_head(self, value ): \n",
        "        curr_node = self.__head\n",
        "        contador = 0\n",
        "        while( curr_node != None ):\n",
        "            if curr_node.dato == value:\n",
        "                return contador\n",
        "            contador += 1\n",
        "            curr_node = curr_node.siguiente\n",
        "        return\n",
        "    def remove_from_head(self, value):\n",
        "        if self.is_empty():\n",
        "            pass\n",
        "        else:\n",
        "            curr_node= self.__head\n",
        "            while curr_node.dato != value and curr_node != None:\n",
        "                curr_node = curr_node.siguiente\n",
        "            if curr_node.dato == value:\n",
        "                curr_node.anterior.siguiente = curr_node.siguiente\n",
        "                curr_node.siguiente.anterior = curr_node.anterior\n",
        "        self.__size -= 1\n",
        "\n",
        "    def remove_frome_tail(self , value):\n",
        "        if self.is_empty():\n",
        "            pass\n",
        "        else:\n",
        "            curr_node = self.__tail\n",
        "            while curr_node != values and curr_node !=None:\n",
        "                curr_node = curr_node.anterior\n",
        "            if curr_node.data == value:\n",
        "                curr_node.siguiente = curr_node.anterior\n",
        "                curr_node.anterior.siguiente = curr_node.siguiente\n",
        "        self.size -= 1\n",
        "    \n",
        "    def transversal(self):\n",
        "        curr_node = self.__head\n",
        "        if curr_node != None:\n",
        "            while curr_node != None:\n",
        "                print(\"<--\" ,curr_node.dato, \"-->\" , end=\"\")\n",
        "                curr_node = curr_node.siguiente\n",
        "            print('\\n')\n",
        "        else:\n",
        "            print('Lista vacia')\n",
        "\n",
        "    def reverse_transversal(self):\n",
        "        curr_node = self.__tail\n",
        "        if curr_node != None:\n",
        "            while( curr_node != None ):\n",
        "                print(\"<--\" ,curr_node.dato, \"-->\" , end=\"\")\n",
        "                curr_node = curr_node.anterior\n",
        "            print('\\n')\n",
        "        else:\n",
        "            print('Lista vacia')\n"
      ],
      "execution_count": 89,
      "outputs": []
    },
    {
      "cell_type": "code",
      "metadata": {
        "colab": {
          "base_uri": "https://localhost:8080/"
        },
        "id": "CLqbDEb5dnqw",
        "outputId": "affaa868-6c1b-49c0-be0b-067415f9db04"
      },
      "source": [
        "ldl = DoubleLinkedList()\n",
        "ldl.append(80)\n",
        "ldl.append(90)\n",
        "ldl.append(30)\n",
        "ldl.append(10)\n",
        "ldl.append(15)\n",
        "ldl.append(33)\n",
        "ldl.append(44)\n",
        "ldl.transversal()\n",
        "ldl.reverse_transversal()\n",
        "\n",
        "ldl.remove_from_head(33)\n",
        "ldl.remove_from_head(15)\n",
        "ldl.find_from_tail(10)\n",
        "ldl.find_from_tail(90)\n",
        "\n",
        "print(ldl.find_from_head(44))\n",
        "print(ldl.find_from_tail(10))\n",
        "\n",
        "ldl.transversal()\n",
        "ldl.reverse_transversal()"
      ],
      "execution_count": 87,
      "outputs": [
        {
          "output_type": "stream",
          "text": [
            "<-- 80 --><-- 90 --><-- 30 --><-- 10 --><-- 15 --><-- 33 --><-- 44 -->\n",
            "\n",
            "<-- 44 --><-- 33 --><-- 15 --><-- 10 --><-- 30 --><-- 90 --><-- 80 -->\n",
            "\n",
            "4\n",
            "1\n",
            "<-- 80 --><-- 90 --><-- 30 --><-- 10 --><-- 44 -->\n",
            "\n",
            "<-- 44 --><-- 10 --><-- 30 --><-- 90 --><-- 80 -->\n",
            "\n"
          ],
          "name": "stdout"
        }
      ]
    }
  ]
}