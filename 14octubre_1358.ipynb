{
  "nbformat": 4,
  "nbformat_minor": 0,
  "metadata": {
    "colab": {
      "name": "14octubre_1358.ipynb",
      "provenance": [],
      "toc_visible": true,
      "authorship_tag": "ABX9TyM4nZ50MV0PiGp/4YgDyVz1",
      "include_colab_link": true
    },
    "kernelspec": {
      "name": "python3",
      "display_name": "Python 3"
    }
  },
  "cells": [
    {
      "cell_type": "markdown",
      "metadata": {
        "id": "view-in-github",
        "colab_type": "text"
      },
      "source": [
        "<a href=\"https://colab.research.google.com/github/JaimeOmar1904/edd_1358_2021/blob/master/14octubre_1358.ipynb\" target=\"_parent\"><img src=\"https://colab.research.google.com/assets/colab-badge.svg\" alt=\"Open In Colab\"/></a>"
      ]
    },
    {
      "cell_type": "code",
      "metadata": {
        "id": "LSi1G-9tqcMs",
        "outputId": "5a392fb2-dbe6-4777-def6-3b2b6b7f171b",
        "colab": {
          "base_uri": "https://localhost:8080/",
          "height": 68
        }
      },
      "source": [
        "def calcular(a , b, c):\n",
        "    x = a+ (b/c)\n",
        "    return\n",
        "\n",
        "print(calcular(5,9,3))\n",
        "print(calcular(a=5, c=3, b=9))\n",
        "\n",
        "def calcular_v2(a=10 , b=20, c=5):\n",
        "    x = a+ (b/c)\n",
        "    return\n",
        "print(calcular_v2())\n",
        " "
      ],
      "execution_count": null,
      "outputs": [
        {
          "output_type": "stream",
          "text": [
            "None\n",
            "None\n",
            "None\n"
          ],
          "name": "stdout"
        }
      ]
    },
    {
      "cell_type": "code",
      "metadata": {
        "id": "34597g1Mr8pZ"
      },
      "source": [
        ""
      ],
      "execution_count": null,
      "outputs": []
    },
    {
      "cell_type": "markdown",
      "metadata": {
        "id": "0datNVK-ruc_"
      },
      "source": [
        "# argumentos a funciones por tuplas *\n",
        "se envian los argumentos en un conjunto de elementos dentro de la tupla"
      ]
    },
    {
      "cell_type": "code",
      "metadata": {
        "id": "OhWN-rY7r-Gq",
        "outputId": "7cddbe4a-d54b-4389-e172-cb20bedbc260",
        "colab": {
          "base_uri": "https://localhost:8080/",
          "height": 51
        }
      },
      "source": [
        "def calculo( *elem ):\n",
        "    print(elem)\n",
        "    x = elem[0] + (elem[1] / elem[2])\n",
        "    return x\n",
        "\n",
        "print(calculo(5,9,3))"
      ],
      "execution_count": null,
      "outputs": [
        {
          "output_type": "stream",
          "text": [
            "(5, 9, 3)\n",
            "8.0\n"
          ],
          "name": "stdout"
        }
      ]
    },
    {
      "cell_type": "markdown",
      "metadata": {
        "id": "bqjbcxkkszAV"
      },
      "source": [
        "## ARGUMENTOS COMO DICCIONARIOS**"
      ]
    },
    {
      "cell_type": "markdown",
      "metadata": {
        "id": "xgJtLLh72hJV"
      },
      "source": [
        ""
      ]
    },
    {
      "cell_type": "code",
      "metadata": {
        "id": "oGWnZaiIs8zB",
        "outputId": "3d3ad8b5-ff18-444c-8db9-9e931d3594c3",
        "colab": {
          "base_uri": "https://localhost:8080/",
          "height": 51
        }
      },
      "source": [
        "def calculo( **elem ):\n",
        "    print(elem)\n",
        "    x = (elem)['a']+( elem['b'] /  elem['c'] )\n",
        "    return x\n",
        "print(calculo(a=5, b=9, c=3))"
      ],
      "execution_count": null,
      "outputs": [
        {
          "output_type": "stream",
          "text": [
            "{'a': 5, 'b': 9, 'c': 3}\n",
            "8.0\n"
          ],
          "name": "stdout"
        }
      ]
    },
    {
      "cell_type": "markdown",
      "metadata": {
        "id": "hX7qPHNj2lYB"
      },
      "source": [
        "# archivos\n",
        "- abrirlos\n",
        "       - un str con la ruta el archivo\n",
        "       - dos caracteres: 1 -> modo de apertura (r,w) y el 2 formato \n",
        "        (texto o Bianrio)\n",
        "- leerlos\n",
        "- modificarlos"
      ]
    },
    {
      "cell_type": "code",
      "metadata": {
        "id": "xvhzqIKw3Kq1"
      },
      "source": [
        "archivo = open('ejemplo.txt','wt')\n",
        "\n",
        "archivo.write(\"hola mundo de archivos\")\n",
        "\n",
        "archivo.close()\n"
      ],
      "execution_count": null,
      "outputs": []
    },
    {
      "cell_type": "code",
      "metadata": {
        "id": "usS4KZa44fsz",
        "outputId": "8085a18a-b48b-40ce-d725-80f574db1e91",
        "colab": {
          "base_uri": "https://localhost:8080/",
          "height": 34
        }
      },
      "source": [
        "mkdir ejemplo.txt"
      ],
      "execution_count": null,
      "outputs": [
        {
          "output_type": "stream",
          "text": [
            "mkdir: cannot create directory ‘ejemplo.txt’: File exists\n"
          ],
          "name": "stdout"
        }
      ]
    },
    {
      "cell_type": "code",
      "metadata": {
        "id": "2Krv63w-5bzy"
      },
      "source": [
        "!(cat ejemplo.txt > otra.txt)"
      ],
      "execution_count": null,
      "outputs": []
    }
  ]
}