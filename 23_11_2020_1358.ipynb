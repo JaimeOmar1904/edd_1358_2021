{
  "nbformat": 4,
  "nbformat_minor": 0,
  "metadata": {
    "colab": {
      "name": "23/11/2020_1358.ipynb",
      "provenance": [],
      "authorship_tag": "ABX9TyNKdTxDcoLp5rxtqW6Cdchz",
      "include_colab_link": true
    },
    "kernelspec": {
      "name": "python3",
      "display_name": "Python 3"
    }
  },
  "cells": [
    {
      "cell_type": "markdown",
      "metadata": {
        "id": "view-in-github",
        "colab_type": "text"
      },
      "source": [
        "<a href=\"https://colab.research.google.com/github/JaimeOmar1904/edd_1358_2021/blob/master/23_11_2020_1358.ipynb\" target=\"_parent\"><img src=\"https://colab.research.google.com/assets/colab-badge.svg\" alt=\"Open In Colab\"/></a>"
      ]
    },
    {
      "cell_type": "code",
      "metadata": {
        "id": "1Z2nkeoz4yx9"
      },
      "source": [
        "class NodoDoble:\n",
        "    def __init__( self , value , previo = None , siguiente = None ):\n",
        "        self.__data = value\n",
        "        self.__prev = previo\n",
        "        self.__next = siguiente\n",
        "\n",
        "class DoubleLinkendList:\n",
        "    def __int__(self):\n",
        "        self.__head = None\n",
        "        self.__tail = None\n",
        "        self.__size = 0\n",
        "\n",
        "    def get_size(self):\n",
        "        return self.__size\n",
        "\n",
        "    def is_empty(self):\n",
        "        return self.__size == 0\n",
        "\n",
        "    def append (self, value):\n",
        "        if self.is_empty() :\n",
        "            nuevo = NodoDoble(value)\n",
        "            self.__head = nuevo\n",
        "            self.__tail = nuevo\n",
        "        else:\n",
        "            nuevo = NodoDoble( value, self.__tail , None)\n",
        "            self.__tail.next = nuevo \n",
        "            self.__tail = nuevo\n",
        "        self.__size += 1\n",
        "\n",
        "    def transversal ( self ):\n",
        "        curr_node = self.__head\n",
        "        while curr_node != None:\n",
        "            print(\"<---\", curr_node.data, \"---> \", end=\"\")\n",
        "        print(\"\")\n",
        "    def remove_frome_head(self , value):\n",
        "        if self.is_empty():\n",
        "            pass\n",
        "        else:\n",
        "            curr_node = self.__head\n",
        "            while curr_node != values and curr_node !=None:\n",
        "                curr_node = curr_node.next\n",
        "            if curr_node.data == value:\n",
        "                curr_node.prev = curr_node.next\n",
        "                curr_node.next.prev = curr_node.previo\n",
        "        self.size -= 1\n",
        "\n",
        "\n",
        "    "
      ],
      "execution_count": 5,
      "outputs": []
    },
    {
      "cell_type": "code",
      "metadata": {
        "colab": {
          "base_uri": "https://localhost:8080/",
          "height": 350
        },
        "id": "bD5FZ5sP-ZqQ",
        "outputId": "730f54f2-396b-4105-cead-ca22cc6d56cd"
      },
      "source": [
        "ldl = DoubleLinkendList()\n",
        "print(ldl.get_size())\n",
        "ldl.append(10)\n",
        "print(ldl.get_size())\n",
        "ldl.append(20)\n",
        "ldl.append(30)\n",
        "ldl.transversal()\n",
        "ldl.remove_from_head( 20 )\n",
        "ldl.transversal()"
      ],
      "execution_count": 4,
      "outputs": [
        {
          "output_type": "error",
          "ename": "AttributeError",
          "evalue": "ignored",
          "traceback": [
            "\u001b[0;31m---------------------------------------------------------------------------\u001b[0m",
            "\u001b[0;31mAttributeError\u001b[0m                            Traceback (most recent call last)",
            "\u001b[0;32m<ipython-input-4-5e580f372bc4>\u001b[0m in \u001b[0;36m<module>\u001b[0;34m()\u001b[0m\n\u001b[1;32m      1\u001b[0m \u001b[0mldl\u001b[0m \u001b[0;34m=\u001b[0m \u001b[0mDoubleLinkendList\u001b[0m\u001b[0;34m(\u001b[0m\u001b[0;34m)\u001b[0m\u001b[0;34m\u001b[0m\u001b[0;34m\u001b[0m\u001b[0m\n\u001b[0;32m----> 2\u001b[0;31m \u001b[0mprint\u001b[0m\u001b[0;34m(\u001b[0m\u001b[0mldl\u001b[0m\u001b[0;34m.\u001b[0m\u001b[0mget_size\u001b[0m\u001b[0;34m(\u001b[0m\u001b[0;34m)\u001b[0m\u001b[0;34m)\u001b[0m\u001b[0;34m\u001b[0m\u001b[0;34m\u001b[0m\u001b[0m\n\u001b[0m\u001b[1;32m      3\u001b[0m \u001b[0mldl\u001b[0m\u001b[0;34m.\u001b[0m\u001b[0mappend\u001b[0m\u001b[0;34m(\u001b[0m\u001b[0;36m10\u001b[0m\u001b[0;34m)\u001b[0m\u001b[0;34m\u001b[0m\u001b[0;34m\u001b[0m\u001b[0m\n\u001b[1;32m      4\u001b[0m \u001b[0mprint\u001b[0m\u001b[0;34m(\u001b[0m\u001b[0mldl\u001b[0m\u001b[0;34m.\u001b[0m\u001b[0mget_size\u001b[0m\u001b[0;34m(\u001b[0m\u001b[0;34m)\u001b[0m\u001b[0;34m)\u001b[0m\u001b[0;34m\u001b[0m\u001b[0;34m\u001b[0m\u001b[0m\n\u001b[1;32m      5\u001b[0m \u001b[0mldl\u001b[0m\u001b[0;34m.\u001b[0m\u001b[0mappend\u001b[0m\u001b[0;34m(\u001b[0m\u001b[0;36m20\u001b[0m\u001b[0;34m)\u001b[0m\u001b[0;34m\u001b[0m\u001b[0;34m\u001b[0m\u001b[0m\n",
            "\u001b[0;32m<ipython-input-3-1a9efd09fea6>\u001b[0m in \u001b[0;36mget_size\u001b[0;34m(self)\u001b[0m\n\u001b[1;32m     12\u001b[0m \u001b[0;34m\u001b[0m\u001b[0m\n\u001b[1;32m     13\u001b[0m     \u001b[0;32mdef\u001b[0m \u001b[0mget_size\u001b[0m\u001b[0;34m(\u001b[0m\u001b[0mself\u001b[0m\u001b[0;34m)\u001b[0m\u001b[0;34m:\u001b[0m\u001b[0;34m\u001b[0m\u001b[0;34m\u001b[0m\u001b[0m\n\u001b[0;32m---> 14\u001b[0;31m         \u001b[0;32mreturn\u001b[0m \u001b[0mself\u001b[0m\u001b[0;34m.\u001b[0m\u001b[0m__size\u001b[0m\u001b[0;34m\u001b[0m\u001b[0;34m\u001b[0m\u001b[0m\n\u001b[0m\u001b[1;32m     15\u001b[0m \u001b[0;34m\u001b[0m\u001b[0m\n\u001b[1;32m     16\u001b[0m     \u001b[0;32mdef\u001b[0m \u001b[0mis_empty\u001b[0m\u001b[0;34m(\u001b[0m\u001b[0mself\u001b[0m\u001b[0;34m)\u001b[0m\u001b[0;34m:\u001b[0m\u001b[0;34m\u001b[0m\u001b[0;34m\u001b[0m\u001b[0m\n",
            "\u001b[0;31mAttributeError\u001b[0m: 'DoubleLinkendList' object has no attribute '_DoubleLinkendList__size'"
          ]
        }
      ]
    }
  ]
}