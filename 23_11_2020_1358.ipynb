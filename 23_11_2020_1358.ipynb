{
  "nbformat": 4,
  "nbformat_minor": 0,
  "metadata": {
    "colab": {
      "name": "23/11/2020_1358",
      "provenance": [],
      "collapsed_sections": [],
      "authorship_tag": "ABX9TyNZ/UIrnE3FGBQS7jEc+lIb",
      "include_colab_link": true
    },
    "kernelspec": {
      "name": "python3",
      "display_name": "Python 3"
    }
  },
  "cells": [
    {
      "cell_type": "markdown",
      "metadata": {
        "id": "view-in-github",
        "colab_type": "text"
      },
      "source": [
        "<a href=\"https://colab.research.google.com/github/JaimeOmar1904/edd_1358_2021/blob/master/23_11_2020_1358.ipynb\" target=\"_parent\"><img src=\"https://colab.research.google.com/assets/colab-badge.svg\" alt=\"Open In Colab\"/></a>"
      ]
    },
    {
      "cell_type": "code",
      "metadata": {
        "id": "Q87GuE6INFbG",
        "colab": {
          "base_uri": "https://localhost:8080/"
        },
        "outputId": "a9c9d9bd-aeab-411e-a129-cfd8c5edce72"
      },
      "source": [
        "class Nodo:\n",
        "    def __init__( self , dato ):\n",
        "        self.dato = dato\n",
        "        self.siguiente = None\n",
        "\n",
        " #Ejemplo 1\n",
        "a = Nodo(10)\n",
        "print(a.dato)\n",
        "print(a.siguiente)    \n",
        "\n",
        "#Ejemplo 2\n",
        "a.siguiente = Nodo (20)\n",
        "\n",
        "#ejemplo 3\n",
        "a.siguiente.siguiente=Nodo(30)\n",
        "\n",
        "#Ejemplo 4\n",
        "a.siguiente.siguiente.siguiente=Nodo(40)\n",
        "\n",
        "#Ejemplo 5\n",
        "a.siguiente.siguiente.siguiente.siguiente=Nodo(50)\n",
        "\n",
        "#Ejemplo 6 cambiar el 40 por 45\n",
        "\n",
        "a.siguiente.siguiente.siguiente.dato =45\n",
        "\n",
        "#Ejemplo 7\n",
        "a.siguiente.siguiente.dato= 35\n",
        "#Ejemplo 8\n",
        "a.siguiente.siguiente = a.siguiente.siguiente.siguiente\n",
        "#Ejemplo 9\n",
        "a.siguiente = a.siguiente.siguiente.siguiente.siguiente\n",
        "\n",
        "\n",
        "#Ejemplo 10\n",
        "\n",
        "#Recorrido transversal\n",
        "curr_node = a\n",
        "print(curr_node.dato , \"-->\" , end=\"\")\n",
        "while( curr_node.siguiente != None ):\n",
        "    curr_node = curr_node.siguiente\n",
        "    print(curr_node.dato, \"-->\" , end=\"\")\n",
        "print(\"\")\n",
        "\n",
        "\n",
        "\n",
        "\n",
        "        \n",
        "\n"
      ],
      "execution_count": null,
      "outputs": [
        {
          "output_type": "stream",
          "text": [
            "10\n",
            "None\n",
            "10 -->\n"
          ],
          "name": "stdout"
        }
      ]
    },
    {
      "cell_type": "code",
      "metadata": {
        "colab": {
          "base_uri": "https://localhost:8080/"
        },
        "id": "U9420d4C2AxH",
        "outputId": "2dc386bd-150a-40c7-d037-53e503ea199c"
      },
      "source": [
        "# Código del 18 de noviembre\n",
        "class Nodo:\n",
        "    def __init__( self , dato , siguiente = None ):\n",
        "        self.dato = dato\n",
        "        self.siguiente = siguiente\n",
        "head = Nodo(10, Nodo ( 20, Nodo(30 , Nodo(40, Nodo(50)  ) ) ) )\n",
        "\n",
        "# Insertar el nodo 35 despues del 30\n",
        "anterior = head.siguiente.siguiente\n",
        "print(anterior.dato)\n",
        "nuevo = Nodo(35)\n",
        "nuevo.siguiente = anterior.siguiente\n",
        "print(nuevo.siguiente.dato)\n",
        "anterior.siguiente = nuevo\n",
        "\n",
        "#Eliminar el nodo 20\n",
        "head.siguiente = head.siguiente.siguiente\n",
        "\n",
        "#Recorrido transversal\n",
        "curr_node = head\n",
        "print(curr_node.dato , \"-->\" , end=\"\")\n",
        "while( curr_node.siguiente != None ):\n",
        "    curr_node = curr_node.siguiente\n",
        "    print(curr_node.dato, \"-->\" , end=\"\")\n",
        "print(\"\")\n",
        "\n",
        "\n"
      ],
      "execution_count": 53,
      "outputs": [
        {
          "output_type": "stream",
          "text": [
            "30\n",
            "40\n",
            "10 -->30 -->35 -->40 -->50 -->\n"
          ],
          "name": "stdout"
        }
      ]
    },
    {
      "cell_type": "code",
      "metadata": {
        "id": "eiKmVQacCNgt"
      },
      "source": [
        "class Nodo:\n",
        "    def __init__( self , dato , siguiente = None):\n",
        "        self.dato = dato\n",
        "        self.siguiente = siguiente\n",
        "class LinkedList:\n",
        "    def __init__( self ):\n",
        "        self.__head = None\n",
        "\n",
        "    def is_empty ( self ):\n",
        "        return self.__head == None\n",
        "        \n",
        "    def tail( self ):\n",
        "        curr_node = self.__head\n",
        "        while curr_node != None and curr_node != None:\n",
        "            corr_node = curr_node.siguiente\n",
        "        return curr_node\n",
        "\n",
        "    def append (self, value):\n",
        "        nuevo = Nodo(value)\n",
        "        if self.__head == None:\n",
        "            self.__head = nuevo\n",
        "        else:\n",
        "            self.__tail().siguiente = nuevo\n",
        "\n",
        "    def transversal (self):\n",
        "        curr_node = self.__head\n",
        "        if curr_node == None:\n",
        "            print(\"Lista vacia\")\n",
        "        else:\n",
        "            while curr_node != None:\n",
        "                print(f\"{curr_node.dato} --> \", end =\"\")\n",
        "                curr_node = curr_node.siguiente\n",
        "\n",
        "    def preppend( self , value):\n",
        "        nuevo = Nodo (value)\n",
        "        if self.head == None:\n",
        "            self.__head == nuevo\n",
        "        else:\n",
        "            x = self.__head \n",
        "            self.__head = nuevo\n",
        "            nuevo.siguiente = x\n",
        "\n"
      ],
      "execution_count": 55,
      "outputs": []
    },
    {
      "cell_type": "markdown",
      "metadata": {
        "id": "Bg8lziJek9bY"
      },
      "source": [
        "l = LinkedList()\n",
        "print(f\"l es la lista vacia?= {l.is_empety()\")"
      ]
    },
    {
      "cell_type": "code",
      "metadata": {
        "colab": {
          "base_uri": "https://localhost:8080/",
          "height": 384
        },
        "id": "KnllkfJfl87N",
        "outputId": "f3e00fe8-8aaa-4e81-f5a9-f217567c4a82"
      },
      "source": [
        "l = LinkedList() \n",
        "print(f\"l es la lista vacia?= {l.is_empty()}\")\n",
        "x = l.tail()\n",
        "print(x)\n",
        "l.append( 10 )\n",
        "l.append( 20 )\n",
        "l.append( 30 )\n",
        "l.append( 40 )\n",
        "l.transversal()\n",
        "l.preppend( 5 )\n",
        "l.transversal()"
      ],
      "execution_count": 56,
      "outputs": [
        {
          "output_type": "stream",
          "text": [
            "l es la lista vacia?= True\n",
            "None\n"
          ],
          "name": "stdout"
        },
        {
          "output_type": "error",
          "ename": "AttributeError",
          "evalue": "ignored",
          "traceback": [
            "\u001b[0;31m---------------------------------------------------------------------------\u001b[0m",
            "\u001b[0;31mAttributeError\u001b[0m                            Traceback (most recent call last)",
            "\u001b[0;32m<ipython-input-56-d03bec19a033>\u001b[0m in \u001b[0;36m<module>\u001b[0;34m()\u001b[0m\n\u001b[1;32m      4\u001b[0m \u001b[0mprint\u001b[0m\u001b[0;34m(\u001b[0m\u001b[0mx\u001b[0m\u001b[0;34m)\u001b[0m\u001b[0;34m\u001b[0m\u001b[0;34m\u001b[0m\u001b[0m\n\u001b[1;32m      5\u001b[0m \u001b[0ml\u001b[0m\u001b[0;34m.\u001b[0m\u001b[0mappend\u001b[0m\u001b[0;34m(\u001b[0m \u001b[0;36m10\u001b[0m \u001b[0;34m)\u001b[0m\u001b[0;34m\u001b[0m\u001b[0;34m\u001b[0m\u001b[0m\n\u001b[0;32m----> 6\u001b[0;31m \u001b[0ml\u001b[0m\u001b[0;34m.\u001b[0m\u001b[0mappend\u001b[0m\u001b[0;34m(\u001b[0m \u001b[0;36m20\u001b[0m \u001b[0;34m)\u001b[0m\u001b[0;34m\u001b[0m\u001b[0;34m\u001b[0m\u001b[0m\n\u001b[0m\u001b[1;32m      7\u001b[0m \u001b[0ml\u001b[0m\u001b[0;34m.\u001b[0m\u001b[0mappend\u001b[0m\u001b[0;34m(\u001b[0m \u001b[0;36m30\u001b[0m \u001b[0;34m)\u001b[0m\u001b[0;34m\u001b[0m\u001b[0;34m\u001b[0m\u001b[0m\n\u001b[1;32m      8\u001b[0m \u001b[0ml\u001b[0m\u001b[0;34m.\u001b[0m\u001b[0mappend\u001b[0m\u001b[0;34m(\u001b[0m \u001b[0;36m40\u001b[0m \u001b[0;34m)\u001b[0m\u001b[0;34m\u001b[0m\u001b[0;34m\u001b[0m\u001b[0m\n",
            "\u001b[0;32m<ipython-input-55-020838725aa8>\u001b[0m in \u001b[0;36mappend\u001b[0;34m(self, value)\u001b[0m\n\u001b[1;32m     21\u001b[0m             \u001b[0mself\u001b[0m\u001b[0;34m.\u001b[0m\u001b[0m__head\u001b[0m \u001b[0;34m=\u001b[0m \u001b[0mnuevo\u001b[0m\u001b[0;34m\u001b[0m\u001b[0;34m\u001b[0m\u001b[0m\n\u001b[1;32m     22\u001b[0m         \u001b[0;32melse\u001b[0m\u001b[0;34m:\u001b[0m\u001b[0;34m\u001b[0m\u001b[0;34m\u001b[0m\u001b[0m\n\u001b[0;32m---> 23\u001b[0;31m             \u001b[0mself\u001b[0m\u001b[0;34m.\u001b[0m\u001b[0m__tail\u001b[0m\u001b[0;34m(\u001b[0m\u001b[0;34m)\u001b[0m\u001b[0;34m.\u001b[0m\u001b[0msiguiente\u001b[0m \u001b[0;34m=\u001b[0m \u001b[0mnuevo\u001b[0m\u001b[0;34m\u001b[0m\u001b[0;34m\u001b[0m\u001b[0m\n\u001b[0m\u001b[1;32m     24\u001b[0m \u001b[0;34m\u001b[0m\u001b[0m\n\u001b[1;32m     25\u001b[0m     \u001b[0;32mdef\u001b[0m \u001b[0mtransversal\u001b[0m \u001b[0;34m(\u001b[0m\u001b[0mself\u001b[0m\u001b[0;34m)\u001b[0m\u001b[0;34m:\u001b[0m\u001b[0;34m\u001b[0m\u001b[0;34m\u001b[0m\u001b[0m\n",
            "\u001b[0;31mAttributeError\u001b[0m: 'LinkedList' object has no attribute '_LinkedList__tail'"
          ]
        }
      ]
    }
  ]
}