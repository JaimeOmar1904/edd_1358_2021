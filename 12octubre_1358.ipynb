{
  "nbformat": 4,
  "nbformat_minor": 0,
  "metadata": {
    "colab": {
      "name": "12octubre_1358.ipynb",
      "provenance": [],
      "authorship_tag": "ABX9TyMfajr13efzkuu0k7FR1Yz0",
      "include_colab_link": true
    },
    "kernelspec": {
      "name": "python3",
      "display_name": "Python 3"
    }
  },
  "cells": [
    {
      "cell_type": "markdown",
      "metadata": {
        "id": "view-in-github",
        "colab_type": "text"
      },
      "source": [
        "<a href=\"https://colab.research.google.com/github/JaimeOmar1904/edd_1358_2021/blob/master/12octubre_1358.ipynb\" target=\"_parent\"><img src=\"https://colab.research.google.com/assets/colab-badge.svg\" alt=\"Open In Colab\"/></a>"
      ]
    },
    {
      "cell_type": "code",
      "metadata": {
        "id": "4wrLm9PAWtoL",
        "outputId": "bd162f77-3a56-43c9-dd11-13fddf7fb336",
        "colab": {
          "base_uri": "https://localhost:8080/",
          "height": 122
        }
      },
      "source": [
        "# diccionarios (continuación)\n",
        "cliente_banco ={\n",
        "            \"id\":1,\n",
        "            \"nombres\" : [\"Juan\", \"Antonio\"],\n",
        "            \"paterno\":\"Garcia\",\n",
        "            \"materno\" : \"Pérez\",\n",
        "            \"telefonos\":{\n",
        "                        \"casa\": 5566778899,\n",
        "                         \"celular\": 5544332211,\n",
        "                         \"trabajo\": 5566223311\n",
        "\n",
        "                        },\n",
        "              \"activo\": True,\n",
        "              \"balance\" : 234567.89,\n",
        "              \"tarjetas\": ({\"tipo\": \"debito\",\"saldo\":12000},\n",
        "                           {\"tipo\":\"credito\",\"saldo\":3500.0})\n",
        "    \n",
        "            }\n",
        "print(cliente_banco)\n",
        "#cliente_banco[\"balance\"]= cliente_banco[\"balance\"] -1000.89\n",
        "cliente_banco[\"balance\"] -=1000.89\n",
        "\n",
        "print(cliente_banco)\n",
        "cliente_banco[\"tarjeta\"]= ({\"tipo\": \"debito\",\"saldo\":12000},\n",
        "                           {\"tipo\":\"credito\",\"saldo\":3500.0},\n",
        "                           {\"tipo\":\"credito\", \"nivel\":\"oro\",\"saldo\":50000})\n",
        "print(cliente_banco)\n",
        "cliente_banco[\"direccion\"]={\"calle\":\"rancho seco\", \"num\":23}\n",
        "print(cliente_banco)\n",
        "cliente_banco.pop(\"tarjetas\")\n",
        "print(cliente_banco)\n",
        "    "
      ],
      "execution_count": 5,
      "outputs": [
        {
          "output_type": "stream",
          "text": [
            "{'id': 1, 'nombres': ['Juan', 'Antonio'], 'paterno': 'Garcia', 'materno': 'Pérez', 'telefonos': {'casa': 5566778899, 'celular': 5544332211, 'trabajo': 5566223311}, 'activo': True, 'balance': 234567.89, 'tarjetas': ({'tipo': 'debito', 'saldo': 12000}, {'tipo': 'credito', 'saldo': 3500.0})}\n",
            "{'id': 1, 'nombres': ['Juan', 'Antonio'], 'paterno': 'Garcia', 'materno': 'Pérez', 'telefonos': {'casa': 5566778899, 'celular': 5544332211, 'trabajo': 5566223311}, 'activo': True, 'balance': 233567.0, 'tarjetas': ({'tipo': 'debito', 'saldo': 12000}, {'tipo': 'credito', 'saldo': 3500.0})}\n",
            "{'id': 1, 'nombres': ['Juan', 'Antonio'], 'paterno': 'Garcia', 'materno': 'Pérez', 'telefonos': {'casa': 5566778899, 'celular': 5544332211, 'trabajo': 5566223311}, 'activo': True, 'balance': 233567.0, 'tarjetas': ({'tipo': 'debito', 'saldo': 12000}, {'tipo': 'credito', 'saldo': 3500.0}), 'tarjeta': ({'tipo': 'debito', 'saldo': 12000}, {'tipo': 'credito', 'saldo': 3500.0}, {'tipo': 'credito', 'nivel': 'oro', 'saldo': 50000})}\n",
            "{'id': 1, 'nombres': ['Juan', 'Antonio'], 'paterno': 'Garcia', 'materno': 'Pérez', 'telefonos': {'casa': 5566778899, 'celular': 5544332211, 'trabajo': 5566223311}, 'activo': True, 'balance': 233567.0, 'tarjetas': ({'tipo': 'debito', 'saldo': 12000}, {'tipo': 'credito', 'saldo': 3500.0}), 'tarjeta': ({'tipo': 'debito', 'saldo': 12000}, {'tipo': 'credito', 'saldo': 3500.0}, {'tipo': 'credito', 'nivel': 'oro', 'saldo': 50000}), 'direccion': {'calle': 'rancho seco', 'num': 23}}\n",
            "{'id': 1, 'nombres': ['Juan', 'Antonio'], 'paterno': 'Garcia', 'materno': 'Pérez', 'telefonos': {'casa': 5566778899, 'celular': 5544332211, 'trabajo': 5566223311}, 'activo': True, 'balance': 233567.0, 'tarjeta': ({'tipo': 'debito', 'saldo': 12000}, {'tipo': 'credito', 'saldo': 3500.0}, {'tipo': 'credito', 'nivel': 'oro', 'saldo': 50000}), 'direccion': {'calle': 'rancho seco', 'num': 23}}\n"
          ],
          "name": "stdout"
        }
      ]
    },
    {
      "cell_type": "code",
      "metadata": {
        "id": "GnbreeyBdcjC",
        "outputId": "7fb9e676-075d-405f-f149-7a360e1e1d4f",
        "colab": {
          "base_uri": "https://localhost:8080/",
          "height": 547
        }
      },
      "source": [
        "llaves = cliente_banco.keys()\n",
        "print(llaves)\n",
        "print(type(llaves))\n",
        "for x in llaves:\n",
        "  print(x)\n",
        "  \n",
        "valores = cliente_banco.values()\n",
        "for v in valores:\n",
        "  print(v)\n",
        "\n",
        "pares = cliente_banco.items()\n",
        "print(pares)\n",
        "\n",
        "for elem in pares:\n",
        "  print(f\"{elem[0]}= {elem[1]}   \")\n",
        "\n",
        "\n"
      ],
      "execution_count": 11,
      "outputs": [
        {
          "output_type": "stream",
          "text": [
            "dict_keys(['id', 'nombres', 'paterno', 'materno', 'telefonos', 'activo', 'balance', 'tarjeta', 'direccion'])\n",
            "<class 'dict_keys'>\n",
            "id\n",
            "nombres\n",
            "paterno\n",
            "materno\n",
            "telefonos\n",
            "activo\n",
            "balance\n",
            "tarjeta\n",
            "direccion\n",
            "1\n",
            "['Juan', 'Antonio']\n",
            "Garcia\n",
            "Pérez\n",
            "{'casa': 5566778899, 'celular': 5544332211, 'trabajo': 5566223311}\n",
            "True\n",
            "233567.0\n",
            "({'tipo': 'debito', 'saldo': 12000}, {'tipo': 'credito', 'saldo': 3500.0}, {'tipo': 'credito', 'nivel': 'oro', 'saldo': 50000})\n",
            "{'calle': 'rancho seco', 'num': 23}\n",
            "dict_items([('id', 1), ('nombres', ['Juan', 'Antonio']), ('paterno', 'Garcia'), ('materno', 'Pérez'), ('telefonos', {'casa': 5566778899, 'celular': 5544332211, 'trabajo': 5566223311}), ('activo', True), ('balance', 233567.0), ('tarjeta', ({'tipo': 'debito', 'saldo': 12000}, {'tipo': 'credito', 'saldo': 3500.0}, {'tipo': 'credito', 'nivel': 'oro', 'saldo': 50000})), ('direccion', {'calle': 'rancho seco', 'num': 23})])\n",
            "id= 1   \n",
            "nombres= ['Juan', 'Antonio']   \n",
            "paterno= Garcia   \n",
            "materno= Pérez   \n",
            "telefonos= {'casa': 5566778899, 'celular': 5544332211, 'trabajo': 5566223311}   \n",
            "activo= True   \n",
            "balance= 233567.0   \n",
            "tarjeta= ({'tipo': 'debito', 'saldo': 12000}, {'tipo': 'credito', 'saldo': 3500.0}, {'tipo': 'credito', 'nivel': 'oro', 'saldo': 50000})   \n",
            "direccion= {'calle': 'rancho seco', 'num': 23}   \n"
          ],
          "name": "stdout"
        }
      ]
    },
    {
      "cell_type": "code",
      "metadata": {
        "id": "6lbxASrLhBMM",
        "outputId": "ceb57941-5002-4b6c-8f7c-8d4a5e325900",
        "colab": {
          "base_uri": "https://localhost:8080/",
          "height": 34
        }
      },
      "source": [
        "frutas = {\"nombre\":\"manzana\",\"color\":\"rojo\",\"estado\":\"chihuahua\"}\n",
        "otras_caracteristicas = {\"vitamina\":\"d\"}\n",
        "frutas.update(otras_caracteristicas)\n",
        "print(frutas)"
      ],
      "execution_count": 14,
      "outputs": [
        {
          "output_type": "stream",
          "text": [
            "{'nombre': 'manzana', 'color': 'rojo', 'estado': 'chihuahua', 'vitamina': 'd'}\n"
          ],
          "name": "stdout"
        }
      ]
    },
    {
      "cell_type": "markdown",
      "metadata": {
        "id": "w--5tY6PiRHS"
      },
      "source": [
        "# Funciones\n",
        "- recibe de 0 a n argumentos de entrada\n",
        "- regresa solo un valor, aunque ese valor \n",
        "sea None.\n",
        "- tiene un nombre unico en el contexto.\n",
        "- se puede hacer solo dos cosas con funciones:\n",
        "       - definirla\n",
        "       -llamarla\n"
      ]
    },
    {
      "cell_type": "code",
      "metadata": {
        "id": "UJzfod07jA7Z",
        "outputId": "1978f871-56a4-4ad3-b1d8-f72cf0424698",
        "colab": {
          "base_uri": "https://localhost:8080/",
          "height": 51
        }
      },
      "source": [
        "def suma(a,b):\n",
        "  return a+b\n",
        "def saludar():\n",
        "    print(\"hola, ¿como estas?\")\n",
        "    return None\n",
        "x = 10\n",
        "y= 20\n",
        "c = suma(x,y)\n",
        "\n",
        "print(c)\n",
        "saludar()\n"
      ],
      "execution_count": 15,
      "outputs": [
        {
          "output_type": "stream",
          "text": [
            "30\n",
            "hola, ¿como estas?\n"
          ],
          "name": "stdout"
        }
      ]
    },
    {
      "cell_type": "markdown",
      "metadata": {
        "id": "q2hwyFxIkusM"
      },
      "source": [
        "# None y las funciones \n",
        "Aprovechar el uso de none en paso de parametros\n",
        "\n"
      ]
    },
    {
      "cell_type": "code",
      "metadata": {
        "id": "x4miFxB6k8-C"
      },
      "source": [
        "def calcular( base, veces):\n",
        "    if base != None:\n",
        "        resultado = base * vaces\n",
        "    else:\n",
        "        resultado = \"desconocido\"\n",
        "    return resultado\n",
        "\n",
        "print(calcular(4,3))\n",
        "print(calcular(None,3))"
      ],
      "execution_count": null,
      "outputs": []
    }
  ]
}