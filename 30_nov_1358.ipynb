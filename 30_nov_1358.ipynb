{
  "nbformat": 4,
  "nbformat_minor": 0,
  "metadata": {
    "colab": {
      "name": "30_nov_1358.ipynb",
      "provenance": [],
      "authorship_tag": "ABX9TyOh5g+sLLAWIKbEjkFgISvQ",
      "include_colab_link": true
    },
    "kernelspec": {
      "name": "python3",
      "display_name": "Python 3"
    }
  },
  "cells": [
    {
      "cell_type": "markdown",
      "metadata": {
        "id": "view-in-github",
        "colab_type": "text"
      },
      "source": [
        "<a href=\"https://colab.research.google.com/github/JaimeOmar1904/edd_1358_2021/blob/master/30_nov_1358.ipynb\" target=\"_parent\"><img src=\"https://colab.research.google.com/assets/colab-badge.svg\" alt=\"Open In Colab\"/></a>"
      ]
    },
    {
      "cell_type": "code",
      "metadata": {
        "id": "NnPGfORTpZLm"
      },
      "source": [
        "class Stack:\n",
        "    def __init__(self):\n",
        "        self.__data = []\n",
        "        self.__size =0\n",
        "\n",
        "\n",
        "    def pop(self):\n",
        "        return self.__data.pop()\n",
        "\n",
        "\n",
        "    def peek(self):\n",
        "        return self.__data[-1]\n",
        "\n",
        "\n",
        "    def push(self, value):\n",
        "        self.__data.append(value)\n",
        "\n",
        "    \n",
        "    def to_string(self):\n",
        "        print(\"--------\")\n",
        "        for dato in self.__data[::-1]:\n",
        "            print(f\" | {dato} |\")\n",
        "            print(\"--------\")\n"
      ],
      "execution_count": 13,
      "outputs": []
    },
    {
      "cell_type": "code",
      "metadata": {
        "colab": {
          "base_uri": "https://localhost:8080/"
        },
        "id": "otWaP4Sls1sW",
        "outputId": "7a930435-3fd7-4da7-f92b-83323ac7fb77"
      },
      "source": [
        "pl = Stack()\n",
        "pl.push(34)\n",
        "pl.push(10)\n",
        "pl.push(45)\n",
        "pl.push(4)\n",
        "pl.push(23)\n",
        "pl.push(33)\n",
        "valor = pl.pop()\n",
        "print(valor * 2)\n",
        "pl.to_string()\n",
        "valor = pl.peek()\n",
        "print( valor * 2)\n",
        "pl.to_string()\n"
      ],
      "execution_count": 14,
      "outputs": [
        {
          "output_type": "stream",
          "text": [
            "66\n",
            "--------\n",
            " | 23 |\n",
            "--------\n",
            " | 4 |\n",
            "--------\n",
            " | 45 |\n",
            "--------\n",
            " | 10 |\n",
            "--------\n",
            " | 34 |\n",
            "--------\n",
            "46\n",
            "--------\n",
            " | 23 |\n",
            "--------\n",
            " | 4 |\n",
            "--------\n",
            " | 45 |\n",
            "--------\n",
            " | 10 |\n",
            "--------\n",
            " | 34 |\n",
            "--------\n"
          ],
          "name": "stdout"
        }
      ]
    },
    {
      "cell_type": "code",
      "metadata": {
        "id": "mKG3Wdm4usqv",
        "colab": {
          "base_uri": "https://localhost:8080/"
        },
        "outputId": "aa929966-05a4-4ac3-8445-3f8cddde0048"
      },
      "source": [
        "# Aplicaciones de la estructura Stack\n",
        "#Validación de parenstesis balanceados  '(' , '{' y '['\n",
        "\n",
        "cadena  = \"b=3*(5(+(4/2))\"\n",
        "#cadena = \")))))(()\"\n",
        "pila = Stack()\n",
        "pila.push(\"#\")# Carecter de pila vacia.\n",
        "for elem in cadena:\n",
        "    if elem == '(' :\n",
        "        pila.push('*')\n",
        "    elif elem == ')' :\n",
        "        pila.pop()\n",
        "    else:\n",
        "        pass\n",
        "if pila.peek() == '#' :\n",
        "    print(\" La expresión está balaceada en parentesis\") \n",
        "else:\n",
        "    print(\"La expesión no está balanceada\")\n",
        "\n"
      ],
      "execution_count": 17,
      "outputs": [
        {
          "output_type": "stream",
          "text": [
            "La expesión no está balanceada\n"
          ],
          "name": "stdout"
        }
      ]
    }
  ]
}