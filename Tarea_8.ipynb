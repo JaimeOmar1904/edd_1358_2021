{
  "nbformat": 4,
  "nbformat_minor": 0,
  "metadata": {
    "colab": {
      "name": "Tarea 8.ipynb",
      "provenance": [],
      "collapsed_sections": [],
      "authorship_tag": "ABX9TyMiVlFrNP7zNE0SpqXoiajt",
      "include_colab_link": true
    },
    "kernelspec": {
      "name": "python3",
      "display_name": "Python 3"
    }
  },
  "cells": [
    {
      "cell_type": "markdown",
      "metadata": {
        "id": "view-in-github",
        "colab_type": "text"
      },
      "source": [
        "<a href=\"https://colab.research.google.com/github/JaimeOmar1904/edd_1358_2021/blob/master/Tarea_8.ipynb\" target=\"_parent\"><img src=\"https://colab.research.google.com/assets/colab-badge.svg\" alt=\"Open In Colab\"/></a>"
      ]
    },
    {
      "cell_type": "code",
      "metadata": {
        "id": "KIPXmqLFXnK2"
      },
      "source": [
        "class Queue:\r\n",
        "    def __init__(self):\r\n",
        "        self.__data = list()\r\n",
        "\r\n",
        "    def is_empty(self):\r\n",
        "        return len(self.__data) == 0\r\n",
        "\r\n",
        "\r\n",
        "    def length(self):\r\n",
        "        return len(self.__data)\r\n",
        "\r\n",
        "    def enqueue(self, item):\r\n",
        "        self.__data.append(item)\r\n",
        "\r\n",
        "    def dequeue(self):\r\n",
        "        if not self.is_empty():\r\n",
        "            return self.__data.pop(0)      \r\n",
        "        else:\r\n",
        "            return None\r\n",
        "\r\n",
        "    def to_string(self):\r\n",
        "        cadena = \"\"\r\n",
        "        for elem in self.__data:\r\n",
        "            cadena = cadena + \"| \" + elem\r\n",
        "        cadena = cadena + \"|\"\r\n",
        "        return cadena"
      ],
      "execution_count": 122,
      "outputs": []
    },
    {
      "cell_type": "code",
      "metadata": {
        "id": "2pOOe_9QJGLP"
      },
      "source": [
        "class PriorityQueue:\r\n",
        "    def __init__( self ):\r\n",
        "        self.__data = [Queue()]\r\n",
        "        self.__size = 0\r\n",
        "\r\n",
        "    def is_empty( self ):\r\n",
        "        return self.__size == 0\r\n",
        "    \r\n",
        "    def length( self ):\r\n",
        "        return self.__size\r\n",
        "\r\n",
        "    def enqueue(self, prioridad, elem):\r\n",
        "        if prioridad < len(self.__data) and prioridad >= 0:\r\n",
        "            self.__data[prioridad].enqueue(elem)\r\n",
        "            self.__size += 1\r\n",
        "        elif prioridad >= len(self.__data) and prioridad >= 0:\r\n",
        "            while prioridad >= len(self.__data):\r\n",
        "                self.__data.append(Queue())\r\n",
        "            self.__data[prioridad].enqueue(elem)\r\n",
        "            self.__size += 1\r\n",
        "        else:\r\n",
        "            print(\"La prioridad no puede ser menor de 0\")\r\n",
        "    \r\n",
        "    def dequeue(self):\r\n",
        "        if not self.is_empty():\r\n",
        "            n = 0\r\n",
        "            while self.__data[n].is_empty():\r\n",
        "                n +=1\r\n",
        "            self.__size -= 1\r\n",
        "            return self.__data[n].dequeue()\r\n",
        "        else:\r\n",
        "            return None\r\n",
        "\r\n",
        "    def to_string( self ):\r\n",
        "        for nivel in range( len(self.__data) ):\r\n",
        "            print(f\" Nivel { nivel } --> { self.__data[nivel].to_string() } \")"
      ],
      "execution_count": 106,
      "outputs": []
    },
    {
      "cell_type": "code",
      "metadata": {
        "colab": {
          "base_uri": "https://localhost:8080/"
        },
        "id": "YEuwpHiLQL3n",
        "outputId": "e6f0a038-3680-405a-fc4d-6d9cc10ec9d9"
      },
      "source": [
        "compras = PriorityQueue()\r\n",
        "print(\"Vacunacion contra el Covit-19\")\r\n",
        "\"\"\"\r\n",
        "Prioridad    Etapas\r\n",
        "0            Doctores y Endermeras\r\n",
        "1            niños de 1 a 11 años y Adultos mayores 60 a 100\r\n",
        "2            Audultos entre 18 a 59\r\n",
        "3            Adolecentes\r\n",
        "4            ....\r\n",
        "...          ....\r\n",
        "\"\"\"\r\n",
        "compras.enqueue(3,\"adolecente de 13 años\" )\r\n",
        "compras.enqueue(1,\"niño 10 de años\" )\r\n",
        "compras.enqueue(3,\"adolecente de 16 años\" )\r\n",
        "compras.enqueue(2,\"Adulto mayor de 30 años\" )\r\n",
        "compras.enqueue(0,\"Doctor carlos\" )\r\n",
        "compras.enqueue(1,\"niño de 2 años\" )\r\n",
        "compras.enqueue(0,\"Enfermera Alejandra\" )\r\n",
        "compras.enqueue(2 ,\"Adulto Mayor 50 \" )\r\n",
        "compras.enqueue(2,\"adulto de 30 años\")\r\n",
        "compras.to_string()\r\n",
        "print(compras.dequeue())\r\n",
        "compras.to_string()\r\n",
        "print(compras.dequeue())\r\n",
        "compras.to_string()\r\n",
        "print(compras.dequeue())\r\n",
        "compras.to_string()\r\n",
        "print(compras.dequeue())\r\n",
        "compras.to_string()\r\n",
        "print(compras.dequeue())\r\n",
        "compras.to_string()\r\n",
        "print(compras.dequeue())\r\n",
        "compras.to_string()\r\n",
        "print(compras.dequeue())\r\n",
        "compras.to_string()\r\n",
        "print(compras.dequeue())\r\n",
        "compras.to_string()"
      ],
      "execution_count": 121,
      "outputs": [
        {
          "output_type": "stream",
          "text": [
            "Vacunacion contra el Covit-19\n",
            " Nivel 0 --> | Doctor carlos| Enfermera Alejandra| \n",
            " Nivel 1 --> | niño 10 de años| niño de 2 años| \n",
            " Nivel 2 --> | Adulto mayor de 30 años| Adulto Mayor 50 | adulto de 30 años| \n",
            " Nivel 3 --> | adolecente de 13 años| adolecente de 16 años| \n",
            "Doctor carlos\n",
            " Nivel 0 --> | Enfermera Alejandra| \n",
            " Nivel 1 --> | niño 10 de años| niño de 2 años| \n",
            " Nivel 2 --> | Adulto mayor de 30 años| Adulto Mayor 50 | adulto de 30 años| \n",
            " Nivel 3 --> | adolecente de 13 años| adolecente de 16 años| \n",
            "Enfermera Alejandra\n",
            " Nivel 0 --> | \n",
            " Nivel 1 --> | niño 10 de años| niño de 2 años| \n",
            " Nivel 2 --> | Adulto mayor de 30 años| Adulto Mayor 50 | adulto de 30 años| \n",
            " Nivel 3 --> | adolecente de 13 años| adolecente de 16 años| \n",
            "niño 10 de años\n",
            " Nivel 0 --> | \n",
            " Nivel 1 --> | niño de 2 años| \n",
            " Nivel 2 --> | Adulto mayor de 30 años| Adulto Mayor 50 | adulto de 30 años| \n",
            " Nivel 3 --> | adolecente de 13 años| adolecente de 16 años| \n",
            "niño de 2 años\n",
            " Nivel 0 --> | \n",
            " Nivel 1 --> | \n",
            " Nivel 2 --> | Adulto mayor de 30 años| Adulto Mayor 50 | adulto de 30 años| \n",
            " Nivel 3 --> | adolecente de 13 años| adolecente de 16 años| \n",
            "Adulto mayor de 30 años\n",
            " Nivel 0 --> | \n",
            " Nivel 1 --> | \n",
            " Nivel 2 --> | Adulto Mayor 50 | adulto de 30 años| \n",
            " Nivel 3 --> | adolecente de 13 años| adolecente de 16 años| \n",
            "Adulto Mayor 50 \n",
            " Nivel 0 --> | \n",
            " Nivel 1 --> | \n",
            " Nivel 2 --> | adulto de 30 años| \n",
            " Nivel 3 --> | adolecente de 13 años| adolecente de 16 años| \n",
            "adulto de 30 años\n",
            " Nivel 0 --> | \n",
            " Nivel 1 --> | \n",
            " Nivel 2 --> | \n",
            " Nivel 3 --> | adolecente de 13 años| adolecente de 16 años| \n",
            "adolecente de 13 años\n",
            " Nivel 0 --> | \n",
            " Nivel 1 --> | \n",
            " Nivel 2 --> | \n",
            " Nivel 3 --> | adolecente de 16 años| \n"
          ],
          "name": "stdout"
        }
      ]
    },
    {
      "cell_type": "code",
      "metadata": {
        "id": "M7vy5lJhqm4p"
      },
      "source": [
        ""
      ],
      "execution_count": 107,
      "outputs": []
    }
  ]
}