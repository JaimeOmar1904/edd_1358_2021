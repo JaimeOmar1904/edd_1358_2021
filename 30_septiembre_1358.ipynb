{
  "nbformat": 4,
  "nbformat_minor": 0,
  "metadata": {
    "colab": {
      "name": "30/septiembre_1358",
      "provenance": [],
      "collapsed_sections": [],
      "authorship_tag": "ABX9TyPvRR/vDwbTM3LPMlJwEfa7",
      "include_colab_link": true
    },
    "kernelspec": {
      "name": "python3",
      "display_name": "Python 3"
    }
  },
  "cells": [
    {
      "cell_type": "markdown",
      "metadata": {
        "id": "view-in-github",
        "colab_type": "text"
      },
      "source": [
        "<a href=\"https://colab.research.google.com/github/JaimeOmar1904/edd_1358_2021/blob/master/30_septiembre_1358.ipynb\" target=\"_parent\"><img src=\"https://colab.research.google.com/assets/colab-badge.svg\" alt=\"Open In Colab\"/></a>"
      ]
    },
    {
      "cell_type": "code",
      "metadata": {
        "id": "0E1lruvss4qt",
        "outputId": "2ca4d1d6-ca8c-4194-a444-467f9b44e1cc",
        "colab": {
          "base_uri": "https://localhost:8080/",
          "height": 129
        }
      },
      "source": [
        "# Fundamentos de Python 3\n",
        "### Tipos de datos basicos\n",
        "edad =13\n",
        "nombre = \"Jose\"\n",
        "estatura = 1.67\n",
        "\n",
        "### compuestos\n",
        "\n",
        "### listas\n",
        "Son mutables\n",
        "se accede a los elementos via el indice\n",
        "los elementos pueden ser de diferente tipo\n",
        "##\n",
        "listas_ejemplo =[\"manzana\", 1.57 , True, [\"Rojo\", \"azul\"] ]\n",
        "\n",
        "\n",
        "### Tuplas\n",
        "Son inmutables\n",
        "se accede a los elementos via del indice \n",
        "los elenetos pueden ser de diderentes tipos\n",
        "tuplas_ejemplo= (\"root\", \"123.322.45.4\", \"1234dios\")\n",
        "### Diccionarios\n",
        "Son equivalentes a los JSON de JS\n",
        "\n",
        "## Sets\n",
        "Son datos agrupados\n",
        "\n"
      ],
      "execution_count": 8,
      "outputs": [
        {
          "output_type": "error",
          "ename": "SyntaxError",
          "evalue": "ignored",
          "traceback": [
            "\u001b[0;36m  File \u001b[0;32m\"<ipython-input-8-fa86368390c0>\"\u001b[0;36m, line \u001b[0;32m10\u001b[0m\n\u001b[0;31m    Son mutables\u001b[0m\n\u001b[0m               ^\u001b[0m\n\u001b[0;31mSyntaxError\u001b[0m\u001b[0;31m:\u001b[0m invalid syntax\n"
          ]
        }
      ]
    },
    {
      "cell_type": "code",
      "metadata": {
        "id": "rBhkPv5OuxG1"
      },
      "source": [
        ""
      ],
      "execution_count": null,
      "outputs": []
    },
    {
      "cell_type": "code",
      "metadata": {
        "id": "ntcD2fe2ux6f",
        "outputId": "4d096f90-77bc-41f1-a3e7-80818af6039f",
        "colab": {
          "base_uri": "https://localhost:8080/",
          "height": 221
        }
      },
      "source": [
        "\n",
        "lista_ejemplo = [\"manzana\", 1.57, True, [\"Rojo\", \"azul\"] ]\n",
        "print(lista_ejemplo[1] )\n",
        "print(lista_ejemplo[3] )\n",
        "print(lista_ejemplo[3][1])\n",
        "lista_ejemplo[0] = \"Manzana\"\n",
        "print(lista_ejemplo)\n",
        "# agregar un elemento al final\n",
        "lista_ejemplo.append(\"iPhone\")\n",
        "print(lista_ejemplo)\n",
        "# Sacar el ultimo elemento\n",
        "valor = lista_ejemplo.pop()\n",
        "print(valor)\n",
        "print(lista_ejemplo)\n",
        "\n",
        "# docuemntacion del tipo de dato lista dir() y help()\n",
        "print(\"-------------------\")\n",
        "lista_ejemplo.insert(1,\"Huawei\")\n",
        "print(lista_ejemplo)\n",
        "\n",
        "conteo= lista_ejemplo.count(\"Huawei\")\n",
        "print(conteo)\n",
        "\n",
        "colores = ['rose', 'fiusca', 'negro']\n",
        "lista_ejemplo.append(colores)\n",
        "\n",
        "print(lista_ejemplo)\n",
        "\n",
        "#con extends funsionan dos listas\n",
        "\n",
        "lista_ejemplo.extend(colores)\n",
        "print(lista_ejemplo)\n",
        "\n",
        "\n"
      ],
      "execution_count": 19,
      "outputs": [
        {
          "output_type": "stream",
          "text": [
            "1.57\n",
            "['Rojo', 'azul']\n",
            "azul\n",
            "['Manzana', 1.57, True, ['Rojo', 'azul']]\n",
            "['Manzana', 1.57, True, ['Rojo', 'azul'], 'iPhone']\n",
            "iPhone\n",
            "['Manzana', 1.57, True, ['Rojo', 'azul']]\n",
            "-------------------\n",
            "['Manzana', 'Huawei', 1.57, True, ['Rojo', 'azul']]\n",
            "1\n",
            "['Manzana', 'Huawei', 1.57, True, ['Rojo', 'azul'], ['rose', 'fiusca', 'negro']]\n",
            "['Manzana', 'Huawei', 1.57, True, ['Rojo', 'azul'], ['rose', 'fiusca', 'negro'], 'rose', 'fiusca', 'negro']\n"
          ],
          "name": "stdout"
        }
      ]
    }
  ]
}