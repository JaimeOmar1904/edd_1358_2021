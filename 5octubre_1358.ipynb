{
  "nbformat": 4,
  "nbformat_minor": 0,
  "metadata": {
    "colab": {
      "name": "5octubre_1358",
      "provenance": [],
      "collapsed_sections": [],
      "authorship_tag": "ABX9TyPYmCYPMSyUG5y5FA0GmXOC",
      "include_colab_link": true
    },
    "kernelspec": {
      "name": "python3",
      "display_name": "Python 3"
    }
  },
  "cells": [
    {
      "cell_type": "markdown",
      "metadata": {
        "id": "view-in-github",
        "colab_type": "text"
      },
      "source": [
        "<a href=\"https://colab.research.google.com/github/JaimeOmar1904/edd_1358_2021/blob/master/5octubre_1358.ipynb\" target=\"_parent\"><img src=\"https://colab.research.google.com/assets/colab-badge.svg\" alt=\"Open In Colab\"/></a>"
      ]
    },
    {
      "cell_type": "code",
      "metadata": {
        "id": "HO3Y9J_5T29N",
        "outputId": "0e221494-38de-4490-c9ad-faf6f7038f64",
        "colab": {
          "base_uri": "https://localhost:8080/",
          "height": 85
        }
      },
      "source": [
        "precio =12.5\n",
        "cantidad = 2\n",
        "existencia = True\n",
        "\n",
        "# precio de los chetos es de $12.5 y quiero 2, hay?: true\n",
        "\n",
        "print(\"precio de los chetos es $\",precio,\"y quiero\", cantidad, \", hay?\",existencia)\n",
        "\n",
        "# format() de la clase str\n",
        "\n",
        "print(\"precio de los chetos es {0} y quiero {1} , hay:? {2}\".format(precio,cantidad,existencia))\n",
        "print(\"precio de los chetos es {2} y quiero {1} , hay:? {0}\".format(precio,cantidad,existencia)) \n",
        "\n",
        "#operador f\"\n",
        "\n",
        "print(f\"precio de los chetos es {precio} y quiero {cantidad} , hay:? {existencia}\")\n",
        "\n"
      ],
      "execution_count": 6,
      "outputs": [
        {
          "output_type": "stream",
          "text": [
            "precio de los chetos es $ 12.5 y quiero 2 , hay? True\n",
            "precio de los chetos es 12.5 y quiero 2 , hay:? True\n",
            "precio de los chetos es True y quiero 2 , hay:? 12.5\n",
            "precio de los chetos es 12.5 y quiero 2 , hay:? True\n"
          ],
          "name": "stdout"
        }
      ]
    },
    {
      "cell_type": "markdown",
      "metadata": {
        "id": "gcOJj7j3YNzZ"
      },
      "source": [
        "# lista\n",
        "\n",
        "declaracion []\n",
        "\n",
        "selector []\n",
        "\n",
        "mutable\n",
        "\n",
        "# Tuplas\n",
        "\n",
        "declaracion []\n",
        "\n",
        "selector []\n",
        "\n",
        "No mutable\n",
        "\n",
        "# Diccionarios\n",
        "\n",
        "conjuntos de datos en pares de llaves:valor\n",
        "son mutables\n",
        "equivalentes a JSON\n",
        "# Conjuntos\n",
        "Grupo de elementos con la teoria de conjuntos\n",
        "operacion de conjuntos"
      ]
    },
    {
      "cell_type": "code",
      "metadata": {
        "id": "_fKoFRqBZaV0",
        "outputId": "056d36ae-baec-48c5-a62e-d82b3afb9100",
        "colab": {
          "base_uri": "https://localhost:8080/",
          "height": 391
        }
      },
      "source": [
        "# Lista\n",
        "materia = [\"CyP\",\"DAA\",\"EDD\",\"IS\",\"POO\"]\n",
        "print(materia)\n",
        "\n",
        "print(materia[2])\n",
        "print(materia[-1])\n",
        "print(materia[::-1]) # Imprimir el orden inverso\n",
        "\n",
        "# Crear una lista a partir de un string\n",
        "fecha = \"5/octubre/2020\"\n",
        "lista_fecha  = fecha.split(\"/\")\n",
        "print(lista_fecha)\n",
        "\n",
        "# Crear un string a partir de una lista\n",
        "lista_hora =[\"15\",\"22\",\"45\"]\n",
        "hora = \":\".join(lista_hora)\n",
        "print(hora)\n",
        "\n",
        "\n",
        "print(\"-------------\")\n",
        "print(materia)\n",
        "print(lista_fecha)\n",
        "print(lista_hora)\n",
        "\n",
        "materia[0]= \"Computadora y Programación\"\n",
        "print(materia)\n",
        "\n",
        "\n",
        "#agregar\n",
        "materia.append(\"Calidad\")\n",
        "print(materia)\n",
        "\n",
        "#Agregar un elemento a cualquier lugar\n",
        "materia.insert(2, \"Emprendimiento\")\n",
        "print(materia)\n",
        "\n",
        "materias = materia.pop()\n",
        "print(materia)\n",
        "print(materias)\n",
        "materias = materia.pop(1)\n",
        "print(materias)\n",
        "print(materia)\n",
        "\n",
        "# Vaciar una lista\n",
        "materia.clear()\n",
        "print(materia)\n",
        "\n",
        "# Slicing [::]\n",
        "print(\"Slicing\")\n",
        "numeros = [0,1,2,3,4,5,6,7,8,9,10]\n",
        "print(numeros)\n",
        "print(numeros[4:9:1])\n",
        "\n",
        "# sustituir un segmento con slicid [0,1,2,3,-2,9,10]\n",
        "numeros[4:9:1] =[-2]\n",
        "print(numeros)\n",
        "\n",
        "\n",
        "\n"
      ],
      "execution_count": 38,
      "outputs": [
        {
          "output_type": "stream",
          "text": [
            "['CyP', 'DAA', 'EDD', 'IS', 'POO']\n",
            "EDD\n",
            "POO\n",
            "['POO', 'IS', 'EDD', 'DAA', 'CyP']\n",
            "['5', 'octubre', '2020']\n",
            "15:22:45\n",
            "-------------\n",
            "['CyP', 'DAA', 'EDD', 'IS', 'POO']\n",
            "['5', 'octubre', '2020']\n",
            "['15', '22', '45']\n",
            "['Computadora y Programación', 'DAA', 'EDD', 'IS', 'POO']\n",
            "['Computadora y Programación', 'DAA', 'EDD', 'IS', 'POO', 'Calidad']\n",
            "['Computadora y Programación', 'DAA', 'Emprendimiento', 'EDD', 'IS', 'POO', 'Calidad']\n",
            "['Computadora y Programación', 'DAA', 'Emprendimiento', 'EDD', 'IS', 'POO']\n",
            "Calidad\n",
            "DAA\n",
            "['Computadora y Programación', 'Emprendimiento', 'EDD', 'IS', 'POO']\n",
            "[]\n",
            "Slicing\n",
            "[0, 1, 2, 3, 4, 5, 6, 7, 8, 9, 10]\n",
            "[4, 5, 6, 7, 8]\n",
            "[0, 1, 2, 3, -2, 9, 10]\n"
          ],
          "name": "stdout"
        }
      ]
    },
    {
      "cell_type": "code",
      "metadata": {
        "id": "S-8UpJFxiMZ_",
        "outputId": "0955a072-aebc-4421-84ff-483861ad81bb",
        "colab": {
          "base_uri": "https://localhost:8080/",
          "height": 51
        }
      },
      "source": [
        "autos = [\"Mazda\",\"Honda\",\"Akura\",\"Ford\",\"VW\"]\n",
        "telefonos =[\"iphone\", \"huawei mate 30\", \"Xiaomi s10\",\"Alcatel t100\"]\n",
        "sistemas_operativos = [\"Windows\",\"Linux\",\"Android\",\"Ios\",\"MacOs\"]\n",
        "\n",
        "lista_2d = [autos,telefonos,sistemas_operativos]\n",
        "print(lista_2d)\n",
        "print(lista_2d[1][1])"
      ],
      "execution_count": 40,
      "outputs": [
        {
          "output_type": "stream",
          "text": [
            "[['Mazda', 'Honda', 'Akura', 'Ford', 'VW'], ['iphone', 'huawei mate 30', 'Xiaomi s10', 'Alcatel t100'], ['Windows', 'Linux', 'Android', 'Ios', 'MacOs']]\n",
            "huawei mate 30\n"
          ],
          "name": "stdout"
        }
      ]
    },
    {
      "cell_type": "code",
      "metadata": {
        "id": "EjS1Xl78dbE0",
        "outputId": "19724b9b-e3e2-4ed6-bf2b-1e71c6a4d12c",
        "colab": {
          "base_uri": "https://localhost:8080/",
          "height": 1000
        }
      },
      "source": [
        "help(list)"
      ],
      "execution_count": 25,
      "outputs": [
        {
          "output_type": "stream",
          "text": [
            "Help on class list in module builtins:\n",
            "\n",
            "class list(object)\n",
            " |  list() -> new empty list\n",
            " |  list(iterable) -> new list initialized from iterable's items\n",
            " |  \n",
            " |  Methods defined here:\n",
            " |  \n",
            " |  __add__(self, value, /)\n",
            " |      Return self+value.\n",
            " |  \n",
            " |  __contains__(self, key, /)\n",
            " |      Return key in self.\n",
            " |  \n",
            " |  __delitem__(self, key, /)\n",
            " |      Delete self[key].\n",
            " |  \n",
            " |  __eq__(self, value, /)\n",
            " |      Return self==value.\n",
            " |  \n",
            " |  __ge__(self, value, /)\n",
            " |      Return self>=value.\n",
            " |  \n",
            " |  __getattribute__(self, name, /)\n",
            " |      Return getattr(self, name).\n",
            " |  \n",
            " |  __getitem__(...)\n",
            " |      x.__getitem__(y) <==> x[y]\n",
            " |  \n",
            " |  __gt__(self, value, /)\n",
            " |      Return self>value.\n",
            " |  \n",
            " |  __iadd__(self, value, /)\n",
            " |      Implement self+=value.\n",
            " |  \n",
            " |  __imul__(self, value, /)\n",
            " |      Implement self*=value.\n",
            " |  \n",
            " |  __init__(self, /, *args, **kwargs)\n",
            " |      Initialize self.  See help(type(self)) for accurate signature.\n",
            " |  \n",
            " |  __iter__(self, /)\n",
            " |      Implement iter(self).\n",
            " |  \n",
            " |  __le__(self, value, /)\n",
            " |      Return self<=value.\n",
            " |  \n",
            " |  __len__(self, /)\n",
            " |      Return len(self).\n",
            " |  \n",
            " |  __lt__(self, value, /)\n",
            " |      Return self<value.\n",
            " |  \n",
            " |  __mul__(self, value, /)\n",
            " |      Return self*value.\n",
            " |  \n",
            " |  __ne__(self, value, /)\n",
            " |      Return self!=value.\n",
            " |  \n",
            " |  __new__(*args, **kwargs) from builtins.type\n",
            " |      Create and return a new object.  See help(type) for accurate signature.\n",
            " |  \n",
            " |  __repr__(self, /)\n",
            " |      Return repr(self).\n",
            " |  \n",
            " |  __reversed__(...)\n",
            " |      L.__reversed__() -- return a reverse iterator over the list\n",
            " |  \n",
            " |  __rmul__(self, value, /)\n",
            " |      Return value*self.\n",
            " |  \n",
            " |  __setitem__(self, key, value, /)\n",
            " |      Set self[key] to value.\n",
            " |  \n",
            " |  __sizeof__(...)\n",
            " |      L.__sizeof__() -- size of L in memory, in bytes\n",
            " |  \n",
            " |  append(...)\n",
            " |      L.append(object) -> None -- append object to end\n",
            " |  \n",
            " |  clear(...)\n",
            " |      L.clear() -> None -- remove all items from L\n",
            " |  \n",
            " |  copy(...)\n",
            " |      L.copy() -> list -- a shallow copy of L\n",
            " |  \n",
            " |  count(...)\n",
            " |      L.count(value) -> integer -- return number of occurrences of value\n",
            " |  \n",
            " |  extend(...)\n",
            " |      L.extend(iterable) -> None -- extend list by appending elements from the iterable\n",
            " |  \n",
            " |  index(...)\n",
            " |      L.index(value, [start, [stop]]) -> integer -- return first index of value.\n",
            " |      Raises ValueError if the value is not present.\n",
            " |  \n",
            " |  insert(...)\n",
            " |      L.insert(index, object) -- insert object before index\n",
            " |  \n",
            " |  pop(...)\n",
            " |      L.pop([index]) -> item -- remove and return item at index (default last).\n",
            " |      Raises IndexError if list is empty or index is out of range.\n",
            " |  \n",
            " |  remove(...)\n",
            " |      L.remove(value) -> None -- remove first occurrence of value.\n",
            " |      Raises ValueError if the value is not present.\n",
            " |  \n",
            " |  reverse(...)\n",
            " |      L.reverse() -- reverse *IN PLACE*\n",
            " |  \n",
            " |  sort(...)\n",
            " |      L.sort(key=None, reverse=False) -> None -- stable sort *IN PLACE*\n",
            " |  \n",
            " |  ----------------------------------------------------------------------\n",
            " |  Data and other attributes defined here:\n",
            " |  \n",
            " |  __hash__ = None\n",
            "\n"
          ],
          "name": "stdout"
        }
      ]
    }
  ]
}