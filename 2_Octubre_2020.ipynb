{
  "nbformat": 4,
  "nbformat_minor": 0,
  "metadata": {
    "colab": {
      "name": "2/Octubre/2020",
      "provenance": [],
      "authorship_tag": "ABX9TyM7CznR9HLxLX34a/3yoYjP",
      "include_colab_link": true
    },
    "kernelspec": {
      "name": "python3",
      "display_name": "Python 3"
    }
  },
  "cells": [
    {
      "cell_type": "markdown",
      "metadata": {
        "id": "view-in-github",
        "colab_type": "text"
      },
      "source": [
        "<a href=\"https://colab.research.google.com/github/JaimeOmar1904/edd_1358_2021/blob/master/2_Octubre_2020.ipynb\" target=\"_parent\"><img src=\"https://colab.research.google.com/assets/colab-badge.svg\" alt=\"Open In Colab\"/></a>"
      ]
    },
    {
      "cell_type": "code",
      "metadata": {
        "id": "9Pn199iT3HEI"
      },
      "source": [
        "#Titpo de dato\n",
        "- string             str\n",
        "- interos            int\n",
        "- numero flotante    float\n",
        "- logico             bool\n",
        "- Numero complejo    complex\n",
        "- Listas             list\n",
        "- tuplas             tuple\n",
        "- diccionario        dic\n",
        "- conjutos           set"
      ],
      "execution_count": null,
      "outputs": []
    },
    {
      "cell_type": "code",
      "metadata": {
        "id": "Z1UALKnJ36rY"
      },
      "source": [
        "universidad= \"     universidad      nacinal     autonoma de mexico       \"\n",
        "print ( universidad )\n",
        "# cuando el string es una sola palabra se usa '' -> buena practica\n",
        "carrera = 'ico'\n",
        "area = \"sofware\"\n",
        "print( carerra,area)\n",
        "division = ' division de las ciencias fisico matematicas'\n",
        "print(division)\n",
        "# \"\"\"\" cuando el string incluye varios renglones\n",
        "\"\"\"\n",
        "si\n",
        "funciona !!! no \n",
        "lo\n",
        "arregles!!!\n",
        "\"\"\"\n",
        "print(frase)\n"
      ],
      "execution_count": null,
      "outputs": []
    },
    {
      "cell_type": "code",
      "metadata": {
        "id": "bfp-NW985qn3",
        "outputId": "b4839d71-750c-44a0-c124-576331abfe0e",
        "colab": {
          "base_uri": "https://localhost:8080/",
          "height": 221
        }
      },
      "source": [
        "print(universidad.upper())\n",
        "print(universidad)\n",
        "print(universidad.title())\n",
        "# eliminar espacios a la derecha o la izquierda\n",
        "universidad = universidad.strip()\n",
        "print(universidad)\n",
        "lista = universidad.split(\" \")\n",
        "print(lista)\n",
        "nueva=\"\"\n",
        "for l in lista:\n",
        "  if len(l) > 0:\n",
        "    nueva += l + \" \"\n",
        "print(nueva)\n",
        "\n",
        "\n",
        "numeros = \"1,2,34,56,100\"\n",
        "separados = numeros.split(\",\")\n",
        "print(separados)\n",
        "numeros_int = []\n",
        "for num in separados:\n",
        "  numeros_int.append( int(num) )\n",
        "\n",
        "\n",
        "print(numeros_int)\n",
        "print(nueva)\n",
        "print( nueva.index(\"na\"))\n",
        "print(nueva.replace('','-'))\n",
        "print(nueva)\n",
        "\n",
        "\n"
      ],
      "execution_count": 11,
      "outputs": [
        {
          "output_type": "stream",
          "text": [
            "UNIVERSIDAD      NACINAL     AUTONOMA DE MEXICO\n",
            "universidad      nacinal     autonoma de mexico\n",
            "Universidad      Nacinal     Autonoma De Mexico\n",
            "universidad      nacinal     autonoma de mexico\n",
            "['universidad', '', '', '', '', '', 'nacinal', '', '', '', '', 'autonoma', 'de', 'mexico']\n",
            "universidad nacinal autonoma de mexico \n",
            "['1', '2', '34', '56', '100']\n",
            "[1, 2, 34, 56, 100]\n",
            "universidad nacinal autonoma de mexico \n",
            "12\n",
            "-u-n-i-v-e-r-s-i-d-a-d- -n-a-c-i-n-a-l- -a-u-t-o-n-o-m-a- -d-e- -m-e-x-i-c-o- -\n",
            "universidad nacinal autonoma de mexico \n"
          ],
          "name": "stdout"
        }
      ]
    },
    {
      "cell_type": "markdown",
      "metadata": {
        "id": "UcVp3-JjHyNj"
      },
      "source": [
        "# slicing\n",
        "sintaxis\n",
        "[inico : stop : incremento]"
      ]
    },
    {
      "cell_type": "markdown",
      "metadata": {
        "id": "4VzPGZPf_1FP"
      },
      "source": [
        ""
      ]
    },
    {
      "cell_type": "code",
      "metadata": {
        "id": "6GBHluqh_Xx8",
        "outputId": "7ab8988c-17e3-4f1e-f106-330ec426ec85",
        "colab": {
          "base_uri": "https://localhost:8080/",
          "height": 248
        }
      },
      "source": [
        "# selector de elementos dentro de un str\n",
        "print( nueva[0] )\n",
        "nueva = nueva.strip()\n",
        "print(nueva[ len(nueva -1)]) #indexado negativo\n",
        "print(nueva[-2])\n",
        "\n",
        "# slicing\n",
        "print( nueva[12: 20 : 1])\n",
        "print(nueva[-6:   : 1]) # se anexa un simpre uno de más\n",
        "# mexico al revez con slicing\n",
        "print(nueva[-1: -7  :-1])\n",
        "# valores por defecto [0 : long de la lista: 1]\n",
        "print (nueva[:4:])\n"
      ],
      "execution_count": 21,
      "outputs": [
        {
          "output_type": "stream",
          "text": [
            "u\n"
          ],
          "name": "stdout"
        },
        {
          "output_type": "error",
          "ename": "TypeError",
          "evalue": "ignored",
          "traceback": [
            "\u001b[0;31m---------------------------------------------------------------------------\u001b[0m",
            "\u001b[0;31mTypeError\u001b[0m                                 Traceback (most recent call last)",
            "\u001b[0;32m<ipython-input-21-c052478e47cb>\u001b[0m in \u001b[0;36m<module>\u001b[0;34m()\u001b[0m\n\u001b[1;32m      2\u001b[0m \u001b[0mprint\u001b[0m\u001b[0;34m(\u001b[0m \u001b[0mnueva\u001b[0m\u001b[0;34m[\u001b[0m\u001b[0;36m0\u001b[0m\u001b[0;34m]\u001b[0m \u001b[0;34m)\u001b[0m\u001b[0;34m\u001b[0m\u001b[0;34m\u001b[0m\u001b[0m\n\u001b[1;32m      3\u001b[0m \u001b[0mnueva\u001b[0m \u001b[0;34m=\u001b[0m \u001b[0mnueva\u001b[0m\u001b[0;34m.\u001b[0m\u001b[0mstrip\u001b[0m\u001b[0;34m(\u001b[0m\u001b[0;34m)\u001b[0m\u001b[0;34m\u001b[0m\u001b[0;34m\u001b[0m\u001b[0m\n\u001b[0;32m----> 4\u001b[0;31m \u001b[0mprint\u001b[0m\u001b[0;34m(\u001b[0m\u001b[0mnueva\u001b[0m\u001b[0;34m[\u001b[0m \u001b[0mlen\u001b[0m\u001b[0;34m(\u001b[0m\u001b[0mnueva\u001b[0m \u001b[0;34m-\u001b[0m\u001b[0;36m1\u001b[0m\u001b[0;34m)\u001b[0m\u001b[0;34m]\u001b[0m\u001b[0;34m)\u001b[0m \u001b[0;31m#indexado negativo\u001b[0m\u001b[0;34m\u001b[0m\u001b[0;34m\u001b[0m\u001b[0m\n\u001b[0m\u001b[1;32m      5\u001b[0m \u001b[0mprint\u001b[0m\u001b[0;34m(\u001b[0m\u001b[0mnueva\u001b[0m\u001b[0;34m[\u001b[0m\u001b[0;34m-\u001b[0m\u001b[0;36m2\u001b[0m\u001b[0;34m]\u001b[0m\u001b[0;34m)\u001b[0m\u001b[0;34m\u001b[0m\u001b[0;34m\u001b[0m\u001b[0m\n\u001b[1;32m      6\u001b[0m \u001b[0;34m\u001b[0m\u001b[0m\n",
            "\u001b[0;31mTypeError\u001b[0m: unsupported operand type(s) for -: 'str' and 'int'"
          ]
        }
      ]
    },
    {
      "cell_type": "markdown",
      "metadata": {
        "id": "o9zmt2MAEACc"
      },
      "source": [
        "# bool\n",
        "Acepta solo dos valores\n",
        "True bool(1)\n",
        "False bool(0)\n"
      ]
    },
    {
      "cell_type": "code",
      "metadata": {
        "id": "-C1xKUA-ET0n",
        "outputId": "42ff5d1f-5ccf-4a0b-8d3d-20970bddffe9",
        "colab": {
          "base_uri": "https://localhost:8080/",
          "height": 85
        }
      },
      "source": [
        "print(bool(0))\n",
        "print(bool(4477676))\n",
        "flag = 0\n",
        "print (bool(flag))\n",
        "print(True)"
      ],
      "execution_count": 17,
      "outputs": [
        {
          "output_type": "stream",
          "text": [
            "False\n",
            "True\n",
            "False\n",
            "True\n"
          ],
          "name": "stdout"
        }
      ]
    },
    {
      "cell_type": "markdown",
      "metadata": {
        "id": "TJBqO22RHdqa"
      },
      "source": [
        "# comentario\n",
        "para un comentario de una lista se usa #\n",
        "para un comentario de multiple linea, equivalente a/**/ de java y leng c se utliza--"
      ]
    },
    {
      "cell_type": "code",
      "metadata": {
        "id": "N1coLVt7FZ9Q"
      },
      "source": [
        "# este es un comentario de linea simple\n",
        "\"\"\"\n",
        "este \n",
        "   es un \n",
        "    comentario de \n",
        "      multiple\n",
        "        linea\n",
        "\"\"\""
      ],
      "execution_count": null,
      "outputs": []
    },
    {
      "cell_type": "markdown",
      "metadata": {
        "id": "dND5rOpCFwHK"
      },
      "source": [
        "# funcion Print\n",
        "hay 4 formas de usar print\n",
        "1. con comas (,)\n",
        "1. con signo + (+)\n",
        "1. con la funcion format() de la clase string\n",
        "1. con el operador f\"\"\n"
      ]
    },
    {
      "cell_type": "code",
      "metadata": {
        "id": "nB90JdM2GKTO",
        "outputId": "332dea26-648d-46d3-8388-0232a5112313",
        "colab": {
          "base_uri": "https://localhost:8080/",
          "height": 68
        }
      },
      "source": [
        " #con comas\n",
        "cantidad = 2\n",
        "precio_chetos = 8\n",
        "precio_fanta = 12\n",
        "\n",
        "print(cantidad,precio_chetos,precio_fanta)\n",
        "# con signo solo opera con str\n",
        "print(\"Hola\"+\"mundo\")\n",
        "print(str(cantidad) + str(precio_chetos) + str(precio_fanta) )"
      ],
      "execution_count": 20,
      "outputs": [
        {
          "output_type": "stream",
          "text": [
            "2 8 12\n",
            "Holamundo\n",
            "2812\n"
          ],
          "name": "stdout"
        }
      ]
    }
  ]
}