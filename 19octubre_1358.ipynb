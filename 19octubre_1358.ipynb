{
  "nbformat": 4,
  "nbformat_minor": 0,
  "metadata": {
    "colab": {
      "name": "19octubre_1358.ipynb",
      "provenance": [],
      "collapsed_sections": [],
      "toc_visible": true,
      "authorship_tag": "ABX9TyNzB4iPduFqJ4O9Mm9jTFSg",
      "include_colab_link": true
    },
    "kernelspec": {
      "name": "python3",
      "display_name": "Python 3"
    }
  },
  "cells": [
    {
      "cell_type": "markdown",
      "metadata": {
        "id": "view-in-github",
        "colab_type": "text"
      },
      "source": [
        "<a href=\"https://colab.research.google.com/github/JaimeOmar1904/edd_1358_2021/blob/master/19octubre_1358.ipynb\" target=\"_parent\"><img src=\"https://colab.research.google.com/assets/colab-badge.svg\" alt=\"Open In Colab\"/></a>"
      ]
    },
    {
      "cell_type": "code",
      "metadata": {
        "id": "2MvmirQTaIoV"
      },
      "source": [
        ""
      ],
      "execution_count": null,
      "outputs": []
    },
    {
      "cell_type": "markdown",
      "metadata": {
        "id": "8TokdZ2RaLWM"
      },
      "source": [
        "# Nueva sección"
      ]
    },
    {
      "cell_type": "code",
      "metadata": {
        "id": "ay1NOtjnaNnz",
        "outputId": "16c8aee6-df35-4d91-9a7a-7e4248eec0f1",
        "colab": {
          "base_uri": "https://localhost:8080/",
          "height": 68
        }
      },
      "source": [
        "# leer()\n",
        "archivo = open('frutas.txt','rt')\n",
        "\n",
        "data = archivo.read()\n",
        "print(data.upper())\n",
        "\n",
        "archivo.close()"
      ],
      "execution_count": null,
      "outputs": [
        {
          "output_type": "stream",
          "text": [
            "limon, aguacate, fresa, manzana,\n",
            "ciruela, capulin, naranja\n",
            "pera, kiwi\n"
          ],
          "name": "stdout"
        }
      ]
    },
    {
      "cell_type": "code",
      "metadata": {
        "id": "PkUU5SuleAfd",
        "outputId": "7c8a2399-3889-4086-8606-e70ba78f7ffa",
        "colab": {
          "base_uri": "https://localhost:8080/",
          "height": 102
        }
      },
      "source": [
        "#Read Line\n",
        "archivo = open('frutas.txt','rt')\n",
        "\n",
        "#Normal\n",
        "#print(archivo.readline())\n",
        "\n",
        "\n",
        "data = archivo.readline()\n",
        "while data != \"\":\n",
        "    print(data)\n",
        "    data= archivo.readline()\n",
        "\n",
        "archivo.close()"
      ],
      "execution_count": 16,
      "outputs": [
        {
          "output_type": "stream",
          "text": [
            "limon, aguacate, fresa, manzana,\n",
            "\n",
            "ciruela, capulin, naranja\n",
            "\n",
            "pera, kiwi\n"
          ],
          "name": "stdout"
        }
      ]
    },
    {
      "cell_type": "code",
      "metadata": {
        "id": "_9NG13QXgHdM",
        "outputId": "0172ee83-7809-4378-c5b4-ff456e0ec3b1",
        "colab": {
          "base_uri": "https://localhost:8080/",
          "height": 51
        }
      },
      "source": [
        "# readlines()\n",
        "\n",
        "archivo = open('frutas.txt','rt')\n",
        "\n",
        "data = archivo.readlines()\n",
        "print(data)\n",
        "frutas = []\n",
        "for linea in data:\n",
        "    frutas.append(linea.strip())\n",
        "\n",
        "frutas_final = []\n",
        "for elem in frutas:\n",
        "    for fruta in elem.split(','):\n",
        "        frutas_final.append(fruta.strip())\n",
        "\n",
        "print(frutas_final)\n",
        "archivo.close()\n"
      ],
      "execution_count": 25,
      "outputs": [
        {
          "output_type": "stream",
          "text": [
            "['limon, aguacate, fresa, manzana,\\n', 'ciruela, capulin, naranja\\n', 'pera, kiwi']\n",
            "['limon', 'aguacate', 'fresa', 'manzana', '', 'ciruela', 'capulin', 'naranja', 'pera', 'kiwi']\n"
          ],
          "name": "stdout"
        }
      ]
    },
    {
      "cell_type": "code",
      "metadata": {
        "id": "1hGiUMRklCjA",
        "outputId": "f7a0e7b7-70c0-404b-8304-641e07129ff3",
        "colab": {
          "base_uri": "https://localhost:8080/",
          "height": 129
        }
      },
      "source": [
        "#POO con python\n",
        "- clase\n",
        "- objetos\n",
        "- atributos\n",
        "- metodos\n",
        "- método constructor.\n",
        "- encapsulamiento(publico y privado)\n",
        "- herencia\n",
        "\n",
        "Declarar clases en pyton se usa la palabra reservada clases\n"
      ],
      "execution_count": 47,
      "outputs": [
        {
          "output_type": "error",
          "ename": "SyntaxError",
          "evalue": "ignored",
          "traceback": [
            "\u001b[0;36m  File \u001b[0;32m\"<ipython-input-47-99d63c428fda>\"\u001b[0;36m, line \u001b[0;32m6\u001b[0m\n\u001b[0;31m    - método constructor.\u001b[0m\n\u001b[0m                       ^\u001b[0m\n\u001b[0;31mSyntaxError\u001b[0m\u001b[0;31m:\u001b[0m invalid syntax\n"
          ]
        }
      ]
    },
    {
      "cell_type": "code",
      "metadata": {
        "id": "ZP8ZUQ1VlwFq",
        "outputId": "7ee27afe-900e-41ae-c898-8f52a6c2ba9b",
        "colab": {
          "base_uri": "https://localhost:8080/",
          "height": 51
        }
      },
      "source": [
        "class Persona:\n",
        "    def __init__( self , edd , est ):\n",
        "        self.__edad = edd\n",
        "        self.__estatura = est\n",
        "\n",
        "    def to_string( self ):\n",
        "        print(f\"Edad={self.__edad}, est={self.__estatura}\")\n",
        "\n",
        "\n",
        "per1 = Persona(23,1.78)\n",
        "per1.to_string()\n",
        "per1.estatura = 10.4\n",
        "per1.to_string()"
      ],
      "execution_count": 44,
      "outputs": [
        {
          "output_type": "stream",
          "text": [
            "Edad=23, est=1.78\n",
            "Edad=23, est=1.78\n"
          ],
          "name": "stdout"
        }
      ]
    }
  ]
}