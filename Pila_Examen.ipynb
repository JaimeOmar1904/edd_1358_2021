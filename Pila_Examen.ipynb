{
  "nbformat": 4,
  "nbformat_minor": 0,
  "metadata": {
    "colab": {
      "name": "Pila_Examen.ipynb",
      "provenance": [],
      "authorship_tag": "ABX9TyO8joza6c0O3V/maGbLX5m5",
      "include_colab_link": true
    },
    "kernelspec": {
      "name": "python3",
      "display_name": "Python 3"
    }
  },
  "cells": [
    {
      "cell_type": "markdown",
      "metadata": {
        "id": "view-in-github",
        "colab_type": "text"
      },
      "source": [
        "<a href=\"https://colab.research.google.com/github/JaimeOmar1904/edd_1358_2021/blob/master/Pila_Examen.ipynb\" target=\"_parent\"><img src=\"https://colab.research.google.com/assets/colab-badge.svg\" alt=\"Open In Colab\"/></a>"
      ]
    },
    {
      "cell_type": "code",
      "metadata": {
        "colab": {
          "base_uri": "https://localhost:8080/"
        },
        "id": "lT5YGnrqc2NC",
        "outputId": "8cd8969d-8d82-4d4c-eb43-740073f8f556"
      },
      "source": [
        "class Stack:\r\n",
        "    def __init__(self):\r\n",
        "        self.__data = []\r\n",
        "        self.__size =0\r\n",
        "\r\n",
        "    def pop(self):\r\n",
        "        return self.__data.pop()\r\n",
        "\r\n",
        "    def peek(self):\r\n",
        "        return self.__data[-1]\r\n",
        "\r\n",
        "    def push(self, value):\r\n",
        "        self.__data.append(value)\r\n",
        "    \r\n",
        "    def to_string(self):\r\n",
        "        print(\"--------\")\r\n",
        "        for dato in self.__data[::-1]:\r\n",
        "            print(f\" | {dato} |\")\r\n",
        "            print(\"--------\")\r\n",
        "pl = Stack()\r\n",
        "pl.push(124)\r\n",
        "pl.push(121)\r\n",
        "pl.push(11)\r\n",
        "pl.push(80)\r\n",
        "pl.push(24)\r\n",
        "pl.to_string()\r\n"
      ],
      "execution_count": 1,
      "outputs": [
        {
          "output_type": "stream",
          "text": [
            "--------\n",
            " | 24 |\n",
            "--------\n",
            " | 80 |\n",
            "--------\n",
            " | 11 |\n",
            "--------\n",
            " | 121 |\n",
            "--------\n",
            " | 124 |\n",
            "--------\n"
          ],
          "name": "stdout"
        }
      ]
    }
  ]
}