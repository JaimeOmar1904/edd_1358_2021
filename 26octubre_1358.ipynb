{
  "nbformat": 4,
  "nbformat_minor": 0,
  "metadata": {
    "colab": {
      "name": "26octubre_1358.ipynb",
      "provenance": [],
      "collapsed_sections": [],
      "authorship_tag": "ABX9TyPfYLfe/QN3huvG3yjN3dv7",
      "include_colab_link": true
    },
    "kernelspec": {
      "name": "python3",
      "display_name": "Python 3"
    }
  },
  "cells": [
    {
      "cell_type": "markdown",
      "metadata": {
        "id": "view-in-github",
        "colab_type": "text"
      },
      "source": [
        "<a href=\"https://colab.research.google.com/github/JaimeOmar1904/edd_1358_2021/blob/master/26octubre_1358.ipynb\" target=\"_parent\"><img src=\"https://colab.research.google.com/assets/colab-badge.svg\" alt=\"Open In Colab\"/></a>"
      ]
    },
    {
      "cell_type": "code",
      "metadata": {
        "id": "P8N3rvwk4sTf"
      },
      "source": [
        "\"\"\"\n",
        "Array\n",
        "\"\"\"\n",
        "class Array:\n",
        "    def __init__(self, tam):\n",
        "        self.__datos = [0 for x in range(tam)] #generador \n",
        "    def get_item(self, index):\n",
        "        dato = 0\n",
        "        if index >=  0 and index < len(self.__datos):\n",
        "            dato = self.__datos[index]\n",
        "        else:\n",
        "            print(\"Error en el indice\")\n",
        "        return dato\n",
        "\n",
        "    def set_item(self , dato , index ):\n",
        "        if index >=  0 and index < len(self.__datos):\n",
        "            dato = self.__datos[index] = dato\n",
        "        else:\n",
        "            print(\"Error en el indice\")\n",
        "\n",
        "    def get_length(self):\n",
        "        return len(self.__datos)\n",
        "        \n",
        "    def clear( self , dato):\n",
        "        self.__datos = [dato for x in range(self.__tam)]\n",
        "\n",
        "\n",
        "    def getIterator( self ):\n",
        "        return _getIterator( self.__datos)\n",
        "\n",
        "class _getIterator:\n",
        "    def _init_( self , arreglo ):\n",
        "        self.__arreglo = arreglo\n",
        "        self.__indice_actual = 0\n",
        "\n",
        "    def _iter_( self ):\n",
        "        return self\n",
        "\n",
        "    def _next_( self  ):\n",
        "        if self._indice_actual < len(self._arreglo):\n",
        "            dato = self._arreglo[self._indice_actual]\n",
        "            self.__indice_actual +=1\n",
        "            return dato\n",
        "        else:\n",
        "            raise StopIteration\n",
        "\n",
        "\n",
        "\n",
        "\n",
        "\n",
        "\n",
        "  \n",
        "\n",
        "mi_arreglo = Array(10)\n",
        "print(mi_arreglo.get_item(20)\n",
        "mi_arreglo.set_item(2354 , 3)\n",
        "print(mi_arreglo.set_item(3))\n",
        "\n",
        "for x in mi_arreglo.getIterator():\n",
        "    print(x)"
      ],
      "execution_count": null,
      "outputs": []
    }
  ]
}