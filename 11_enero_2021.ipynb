{
  "nbformat": 4,
  "nbformat_minor": 0,
  "metadata": {
    "colab": {
      "name": "11_enero_2021.ipynb",
      "provenance": [],
      "authorship_tag": "ABX9TyMoGcz3CUPdYdaMoiDIqMzt",
      "include_colab_link": true
    },
    "kernelspec": {
      "name": "python3",
      "display_name": "Python 3"
    }
  },
  "cells": [
    {
      "cell_type": "markdown",
      "metadata": {
        "id": "view-in-github",
        "colab_type": "text"
      },
      "source": [
        "<a href=\"https://colab.research.google.com/github/JaimeOmar1904/edd_1358_2021/blob/master/11_enero_2021.ipynb\" target=\"_parent\"><img src=\"https://colab.research.google.com/assets/colab-badge.svg\" alt=\"Open In Colab\"/></a>"
      ]
    },
    {
      "cell_type": "code",
      "metadata": {
        "id": "sUFEcCC8dnxa"
      },
      "source": [
        "class NodoArbol:\r\n",
        "    def __init__( self , dato , hijo_izq = None , hijo_der= None ):\r\n",
        "        self.dato = dato\r\n",
        "        self.hijo_izq = hijo_izq\r\n",
        "        self.hijo_der = hijo_der"
      ],
      "execution_count": 4,
      "outputs": []
    },
    {
      "cell_type": "code",
      "metadata": {
        "colab": {
          "base_uri": "https://localhost:8080/"
        },
        "id": "lv5koXZLdsWC",
        "outputId": "bf96775e-b647-41f2-fc21-0bc04af24591"
      },
      "source": [
        "\r\n",
        "arbol = NodoArbol(\"R\")\r\n",
        "arbol.hijo_izq = NodoArbol(\"C\")\r\n",
        "arbol.hijo_der = NodoArbol(\"H\")\r\n",
        "#Cómo imprimir el nodo raiz\r\n",
        "print(arbol.dato)\r\n",
        "#Cómo imprimir el hijo izquierdo\r\n",
        "print(arbol.hijo_izq.dato)\r\n",
        "#Cómo imprimir el hijo derecho\r\n",
        "print(arbol.hijo_der.dato)"
      ],
      "execution_count": 5,
      "outputs": [
        {
          "output_type": "stream",
          "text": [
            "R\n",
            "C\n",
            "H\n"
          ],
          "name": "stdout"
        }
      ]
    },
    {
      "cell_type": "code",
      "metadata": {
        "colab": {
          "base_uri": "https://localhost:8080/"
        },
        "id": "Pej5ZR6KfARN",
        "outputId": "6f949f24-1ea9-4f09-c9ec-59175bd906b1"
      },
      "source": [
        "arbol_v2 = NodoArbol(\"R\",NodoArbol(\"C\"),NodoArbol(\"H\"))\r\n",
        "#Cómo imprimir el nodo raiz\r\n",
        "print(arbol.dato)\r\n",
        "#Cómo imprimir el hijo izquierdo\r\n",
        "print(arbol.hijo_izq.dato)\r\n",
        "#Cómo imprimir el hijo derecho\r\n",
        "print(arbol.hijo_der.dato)\r\n"
      ],
      "execution_count": 6,
      "outputs": [
        {
          "output_type": "stream",
          "text": [
            "R\n",
            "C\n",
            "H\n"
          ],
          "name": "stdout"
        }
      ]
    },
    {
      "cell_type": "code",
      "metadata": {
        "colab": {
          "base_uri": "https://localhost:8080/"
        },
        "id": "PBt0ajbgfDdb",
        "outputId": "6b68b62c-aa3d-4a7f-c069-94dfd42af972"
      },
      "source": [
        "#Ejercicio 2\r\n",
        "arbol2 = NodoArbol(4,NodoArbol(3,NodoArbol(2,NodoArbol(2))),NodoArbol(5))\r\n",
        "#Raiz\r\n",
        "print(arbol2.dato)\r\n",
        "#Hijos\r\n",
        "print(arbol2.hijo_izq.dato)\r\n",
        "print(arbol2.hijo_der.dato)\r\n",
        "#Último valor\r\n",
        "print(arbol2.hijo_izq.hijo_izq.hijo_izq.dato)\r\n",
        "print(\"---------------------------\")\r\n",
        "\r\n",
        "#Imprimir el último dato mediante un while\r\n",
        "aux = arbol2\r\n",
        "while aux.hijo_izq != None:\r\n",
        "    aux = aux.hijo_izq\r\n",
        "print(aux.dato)"
      ],
      "execution_count": 7,
      "outputs": [
        {
          "output_type": "stream",
          "text": [
            "4\n",
            "3\n",
            "5\n",
            "2\n",
            "---------------------------\n",
            "2\n"
          ],
          "name": "stdout"
        }
      ]
    },
    {
      "cell_type": "code",
      "metadata": {
        "id": "swhDJARLfIW7"
      },
      "source": [
        "class Nodo_Arbol2:\r\n",
        "    def __init__( self , dato , hijo_izq = None , hijo_cen = None, hijo_der= None ):\r\n",
        "        self.dato = dato\r\n",
        "        self.hijo_izq = hijo_izq\r\n",
        "        self.hijo_cen = hijo_cen\r\n",
        "        self.hijo_der = hijo_der"
      ],
      "execution_count": 8,
      "outputs": []
    },
    {
      "cell_type": "code",
      "metadata": {
        "id": "DhAez3JLfJrj"
      },
      "source": [
        "arbol = Nodo_Arbol2(\"R\" , Nodo_Arbol2(\"I\" , None , Nodo_Arbol2(\"X\")) , Nodo_Arbol2(\"C\" , Nodo_Arbol2(\"Y\")) , Nodo_Arbol2(\"D\" , None , None , Nodo_Arbol2(\"Z\")))"
      ],
      "execution_count": null,
      "outputs": []
    }
  ]
}