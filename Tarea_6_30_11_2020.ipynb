{
  "nbformat": 4,
  "nbformat_minor": 0,
  "metadata": {
    "colab": {
      "name": "Tarea 6_30/11/2020.ipynb",
      "provenance": [],
      "collapsed_sections": [],
      "authorship_tag": "ABX9TyPUbEQS8IgejHMI1EVKy6L9",
      "include_colab_link": true
    },
    "kernelspec": {
      "name": "python3",
      "display_name": "Python 3"
    }
  },
  "cells": [
    {
      "cell_type": "markdown",
      "metadata": {
        "id": "view-in-github",
        "colab_type": "text"
      },
      "source": [
        "<a href=\"https://colab.research.google.com/github/JaimeOmar1904/edd_1358_2021/blob/master/Tarea_6_30_11_2020.ipynb\" target=\"_parent\"><img src=\"https://colab.research.google.com/assets/colab-badge.svg\" alt=\"Open In Colab\"/></a>"
      ]
    },
    {
      "cell_type": "code",
      "metadata": {
        "id": "zVfj1MWiHliA"
      },
      "source": [
        "class Nodo:\n",
        "    def __init__( self , dato, siguiente = None):\n",
        "        self.dato = dato\n",
        "        self.siguiente = siguiente\n",
        "        \n",
        "class CircularList( ):\n",
        "    def __init__(self):\n",
        "        self.__ref = None\n",
        "        self.__size = 0\n",
        "    def is_empty(self):\n",
        "        return self.__size == 0\n",
        "\n",
        "    def insert(self, value):\n",
        "        curr_node = self.__ref\n",
        "        if curr_node == None:\n",
        "            nuevo = Nodo(value)\n",
        "            self.__ref = nuevo\n",
        "            nuevo.siguiente = nuevo\n",
        "            self.__size += 1\n",
        "        elif value > curr_node.dato:\n",
        "            anterior = curr_node.siguiente\n",
        "            nuevo = Nodo(value)\n",
        "            curr_node.siguiente = nuevo\n",
        "            curr_node.siguiente.siguiente = anterior\n",
        "            self.__ref = curr_node.siguiente\n",
        "            self.__size += 1\n",
        "        elif value < curr_node.dato:\n",
        "            if value < curr_node.siguiente.dato:\n",
        "                nuevo = Nodo(value)\n",
        "                siguiente = curr_node.siguiente\n",
        "                curr_node.siguiente = nuevo\n",
        "                curr_node.siguiente.siguiente = siguiente\n",
        "                self.__size += 1\n",
        "            else:\n",
        "                nuevo = Nodo(value)\n",
        "                curr_node = self.__ref.siguiente\n",
        "                while curr_node != self.__ref:\n",
        "                    if curr_node.dato < value and curr_node.siguiente.dato > value:\n",
        "                        siguiente = curr_node.siguiente\n",
        "                        curr_node.siguiente = nuevo\n",
        "                        curr_node.siguiente.siguiente = siguiente\n",
        "                        self.__size += 1\n",
        "                        break\n",
        "                    curr_node = curr_node.siguiente\n",
        "\n",
        "\n",
        "    def transversal( self ):  \n",
        "        curr_node = self.__ref\n",
        "        if curr_node == None:\n",
        "            print(\"La lista está vacia\")\n",
        "        else: \n",
        "            curr_node = curr_node.siguiente\n",
        "            while curr_node != self.__ref:\n",
        "                print(f\"{ curr_node.dato } --->\", end =\"\")\n",
        "                curr_node = curr_node.siguiente\n",
        "        print(f\"{self.__ref.dato} --->\")\n",
        "        print(\"\")\n",
        "\n",
        "    def search(self, value ):\n",
        "        curr_node = self.__ref\n",
        "        if self.__ref != None:\n",
        "            for i in range(self.__size):\n",
        "                if curr_node.dato == value:\n",
        "                    return True\n",
        "                curr_node = curr_node.siguiente\n",
        "            return False\n",
        "\n",
        "\n",
        "\n",
        "    def remove(self,value):\n",
        "        curr_node = self.__ref\n",
        "        if self.__ref != None:\n",
        "            for i in range(self.__size):\n",
        "                if curr_node.siguiente.dato == value:\n",
        "                    curr_node.siguiente = curr_node.siguiente.siguiente\n",
        "                    self.__size -= 1\n",
        "                    return None\n",
        "                else:\n",
        "                    curr_node = curr_node.siguiente\n",
        "\n",
        "\n"
      ],
      "execution_count": 4,
      "outputs": []
    },
    {
      "cell_type": "code",
      "metadata": {
        "colab": {
          "base_uri": "https://localhost:8080/"
        },
        "id": "D4q8h1BcWGCD",
        "outputId": "f799683b-c69a-4701-898c-148e370ded0c"
      },
      "source": [
        "ls = CircularList()\n",
        "ls.insert(5)\n",
        "ls.insert(30)\n",
        "ls.insert(20)\n",
        "ls.insert(40)\n",
        "ls.insert(70)\n",
        "ls.insert(10)\n",
        "ls.insert(22)\n",
        "ls.transversal()\n",
        "ls.remove(30)\n",
        "ls.remove(20)\n",
        "ls.remove(22)\n",
        "print(ls.search(11))\n",
        "print(ls.search(5))\n",
        "ls.transversal()"
      ],
      "execution_count": 10,
      "outputs": [
        {
          "output_type": "stream",
          "text": [
            "5 --->10 --->20 --->22 --->30 --->40 --->70 --->\n",
            "\n",
            "False\n",
            "True\n",
            "5 --->10 --->40 --->70 --->\n",
            "\n"
          ],
          "name": "stdout"
        }
      ]
    }
  ]
}